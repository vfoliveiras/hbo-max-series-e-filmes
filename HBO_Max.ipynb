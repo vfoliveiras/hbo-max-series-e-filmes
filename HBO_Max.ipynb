{
  "nbformat": 4,
  "nbformat_minor": 0,
  "metadata": {
    "colab": {
      "provenance": [],
      "authorship_tag": "ABX9TyOHG6miTeDQzmez3zA0kB/R"
    },
    "kernelspec": {
      "name": "python3",
      "display_name": "Python 3"
    },
    "language_info": {
      "name": "python"
    }
  },
  "cells": [
    {
      "cell_type": "markdown",
      "source": [
        "# **Importando bibliotecas**"
      ],
      "metadata": {
        "id": "-mjsEwUMxoex"
      }
    },
    {
      "cell_type": "code",
      "execution_count": 241,
      "metadata": {
        "id": "Rb9x_ErI8fe3"
      },
      "outputs": [],
      "source": [
        "import numpy as np\n",
        "import pandas as pd\n",
        "import seaborn as sns\n",
        "import matplotlib.pyplot as plt\n",
        "import matplotlib.colors as mcolors\n",
        "from sklearn.feature_extraction.text import TfidfVectorizer\n",
        "from sklearn.metrics.pairwise import linear_kernel"
      ]
    },
    {
      "cell_type": "markdown",
      "source": [
        "# **Carregando Dataset**"
      ],
      "metadata": {
        "id": "B_91nYpO7dK-"
      }
    },
    {
      "cell_type": "code",
      "source": [
        "# Carregar o conjunto de dados\n",
        "df = pd.read_csv('/content/titles.csv')\n",
        "\n",
        "# Visualizar as primeiras linhas do conjunto de dados\n",
        "print(df.head(5))"
      ],
      "metadata": {
        "colab": {
          "base_uri": "https://localhost:8080/"
        },
        "id": "dpOdUikHyeD_",
        "outputId": "f2e4db95-b346-4342-a8ba-6004c784cdd7"
      },
      "execution_count": 242,
      "outputs": [
        {
          "output_type": "stream",
          "name": "stdout",
          "text": [
            "         id               title   type  \\\n",
            "0  tm155702    The Wizard of Oz  MOVIE   \n",
            "1   tm83648        Citizen Kane  MOVIE   \n",
            "2   tm77588          Casablanca  MOVIE   \n",
            "3   tm82363       The Big Sleep  MOVIE   \n",
            "4   tm84701  The Maltese Falcon  MOVIE   \n",
            "\n",
            "                                         description  release_year  \\\n",
            "0  Young Dorothy finds herself in a magical world...          1939   \n",
            "1  Newspaper magnate, Charles Foster Kane is take...          1941   \n",
            "2  In Casablanca, Morocco in December 1941, a cyn...          1942   \n",
            "3  Private Investigator Philip Marlowe is hired b...          1946   \n",
            "4  A private detective takes on a case that invol...          1941   \n",
            "\n",
            "  age_certification  runtime                            genres  \\\n",
            "0                 G      102             ['fantasy', 'family']   \n",
            "1                PG      119                         ['drama']   \n",
            "2                PG      102       ['drama', 'romance', 'war']   \n",
            "3               NaN      116             ['thriller', 'crime']   \n",
            "4               NaN      100  ['thriller', 'romance', 'crime']   \n",
            "\n",
            "  production_countries  seasons    imdb_id  imdb_score  imdb_votes  \\\n",
            "0               ['US']      NaN  tt0032138         8.1    389774.0   \n",
            "1               ['US']      NaN  tt0033467         8.3    433804.0   \n",
            "2               ['US']      NaN  tt0034583         8.5    558849.0   \n",
            "3               ['US']      NaN  tt0038355         7.9     84494.0   \n",
            "4               ['US']      NaN  tt0033870         8.0    156603.0   \n",
            "\n",
            "   tmdb_popularity  tmdb_score  \n",
            "0           41.442         7.6  \n",
            "1           14.383         8.0  \n",
            "2           20.087         8.2  \n",
            "3           12.911         7.7  \n",
            "4           12.788         7.8  \n"
          ]
        }
      ]
    },
    {
      "cell_type": "markdown",
      "source": [
        "# **Exploração dos dados**"
      ],
      "metadata": {
        "id": "viuJ3hnb--_b"
      }
    },
    {
      "cell_type": "code",
      "source": [
        "# Quantidade de linhas e de colunas do dataframe\n",
        "df.shape"
      ],
      "metadata": {
        "colab": {
          "base_uri": "https://localhost:8080/"
        },
        "id": "s8gVmoPj9SkE",
        "outputId": "322b2177-0d4c-463d-ea44-55cfe6b00afe"
      },
      "execution_count": 243,
      "outputs": [
        {
          "output_type": "execute_result",
          "data": {
            "text/plain": [
              "(3294, 15)"
            ]
          },
          "metadata": {},
          "execution_count": 243
        }
      ]
    },
    {
      "cell_type": "code",
      "source": [
        "# Primeiros 5 registros\n",
        "df.head()"
      ],
      "metadata": {
        "colab": {
          "base_uri": "https://localhost:8080/",
          "height": 617
        },
        "id": "16jo0aIk9-m0",
        "outputId": "73d8bd81-e4a5-4a87-8d29-91515d97bb9b"
      },
      "execution_count": 244,
      "outputs": [
        {
          "output_type": "execute_result",
          "data": {
            "text/plain": [
              "         id               title   type  \\\n",
              "0  tm155702    The Wizard of Oz  MOVIE   \n",
              "1   tm83648        Citizen Kane  MOVIE   \n",
              "2   tm77588          Casablanca  MOVIE   \n",
              "3   tm82363       The Big Sleep  MOVIE   \n",
              "4   tm84701  The Maltese Falcon  MOVIE   \n",
              "\n",
              "                                         description  release_year  \\\n",
              "0  Young Dorothy finds herself in a magical world...          1939   \n",
              "1  Newspaper magnate, Charles Foster Kane is take...          1941   \n",
              "2  In Casablanca, Morocco in December 1941, a cyn...          1942   \n",
              "3  Private Investigator Philip Marlowe is hired b...          1946   \n",
              "4  A private detective takes on a case that invol...          1941   \n",
              "\n",
              "  age_certification  runtime                            genres  \\\n",
              "0                 G      102             ['fantasy', 'family']   \n",
              "1                PG      119                         ['drama']   \n",
              "2                PG      102       ['drama', 'romance', 'war']   \n",
              "3               NaN      116             ['thriller', 'crime']   \n",
              "4               NaN      100  ['thriller', 'romance', 'crime']   \n",
              "\n",
              "  production_countries  seasons    imdb_id  imdb_score  imdb_votes  \\\n",
              "0               ['US']      NaN  tt0032138         8.1    389774.0   \n",
              "1               ['US']      NaN  tt0033467         8.3    433804.0   \n",
              "2               ['US']      NaN  tt0034583         8.5    558849.0   \n",
              "3               ['US']      NaN  tt0038355         7.9     84494.0   \n",
              "4               ['US']      NaN  tt0033870         8.0    156603.0   \n",
              "\n",
              "   tmdb_popularity  tmdb_score  \n",
              "0           41.442         7.6  \n",
              "1           14.383         8.0  \n",
              "2           20.087         8.2  \n",
              "3           12.911         7.7  \n",
              "4           12.788         7.8  "
            ],
            "text/html": [
              "\n",
              "\n",
              "  <div id=\"df-0fc9477b-b9bb-4440-a309-712646dd8580\">\n",
              "    <div class=\"colab-df-container\">\n",
              "      <div>\n",
              "<style scoped>\n",
              "    .dataframe tbody tr th:only-of-type {\n",
              "        vertical-align: middle;\n",
              "    }\n",
              "\n",
              "    .dataframe tbody tr th {\n",
              "        vertical-align: top;\n",
              "    }\n",
              "\n",
              "    .dataframe thead th {\n",
              "        text-align: right;\n",
              "    }\n",
              "</style>\n",
              "<table border=\"1\" class=\"dataframe\">\n",
              "  <thead>\n",
              "    <tr style=\"text-align: right;\">\n",
              "      <th></th>\n",
              "      <th>id</th>\n",
              "      <th>title</th>\n",
              "      <th>type</th>\n",
              "      <th>description</th>\n",
              "      <th>release_year</th>\n",
              "      <th>age_certification</th>\n",
              "      <th>runtime</th>\n",
              "      <th>genres</th>\n",
              "      <th>production_countries</th>\n",
              "      <th>seasons</th>\n",
              "      <th>imdb_id</th>\n",
              "      <th>imdb_score</th>\n",
              "      <th>imdb_votes</th>\n",
              "      <th>tmdb_popularity</th>\n",
              "      <th>tmdb_score</th>\n",
              "    </tr>\n",
              "  </thead>\n",
              "  <tbody>\n",
              "    <tr>\n",
              "      <th>0</th>\n",
              "      <td>tm155702</td>\n",
              "      <td>The Wizard of Oz</td>\n",
              "      <td>MOVIE</td>\n",
              "      <td>Young Dorothy finds herself in a magical world...</td>\n",
              "      <td>1939</td>\n",
              "      <td>G</td>\n",
              "      <td>102</td>\n",
              "      <td>['fantasy', 'family']</td>\n",
              "      <td>['US']</td>\n",
              "      <td>NaN</td>\n",
              "      <td>tt0032138</td>\n",
              "      <td>8.1</td>\n",
              "      <td>389774.0</td>\n",
              "      <td>41.442</td>\n",
              "      <td>7.6</td>\n",
              "    </tr>\n",
              "    <tr>\n",
              "      <th>1</th>\n",
              "      <td>tm83648</td>\n",
              "      <td>Citizen Kane</td>\n",
              "      <td>MOVIE</td>\n",
              "      <td>Newspaper magnate, Charles Foster Kane is take...</td>\n",
              "      <td>1941</td>\n",
              "      <td>PG</td>\n",
              "      <td>119</td>\n",
              "      <td>['drama']</td>\n",
              "      <td>['US']</td>\n",
              "      <td>NaN</td>\n",
              "      <td>tt0033467</td>\n",
              "      <td>8.3</td>\n",
              "      <td>433804.0</td>\n",
              "      <td>14.383</td>\n",
              "      <td>8.0</td>\n",
              "    </tr>\n",
              "    <tr>\n",
              "      <th>2</th>\n",
              "      <td>tm77588</td>\n",
              "      <td>Casablanca</td>\n",
              "      <td>MOVIE</td>\n",
              "      <td>In Casablanca, Morocco in December 1941, a cyn...</td>\n",
              "      <td>1942</td>\n",
              "      <td>PG</td>\n",
              "      <td>102</td>\n",
              "      <td>['drama', 'romance', 'war']</td>\n",
              "      <td>['US']</td>\n",
              "      <td>NaN</td>\n",
              "      <td>tt0034583</td>\n",
              "      <td>8.5</td>\n",
              "      <td>558849.0</td>\n",
              "      <td>20.087</td>\n",
              "      <td>8.2</td>\n",
              "    </tr>\n",
              "    <tr>\n",
              "      <th>3</th>\n",
              "      <td>tm82363</td>\n",
              "      <td>The Big Sleep</td>\n",
              "      <td>MOVIE</td>\n",
              "      <td>Private Investigator Philip Marlowe is hired b...</td>\n",
              "      <td>1946</td>\n",
              "      <td>NaN</td>\n",
              "      <td>116</td>\n",
              "      <td>['thriller', 'crime']</td>\n",
              "      <td>['US']</td>\n",
              "      <td>NaN</td>\n",
              "      <td>tt0038355</td>\n",
              "      <td>7.9</td>\n",
              "      <td>84494.0</td>\n",
              "      <td>12.911</td>\n",
              "      <td>7.7</td>\n",
              "    </tr>\n",
              "    <tr>\n",
              "      <th>4</th>\n",
              "      <td>tm84701</td>\n",
              "      <td>The Maltese Falcon</td>\n",
              "      <td>MOVIE</td>\n",
              "      <td>A private detective takes on a case that invol...</td>\n",
              "      <td>1941</td>\n",
              "      <td>NaN</td>\n",
              "      <td>100</td>\n",
              "      <td>['thriller', 'romance', 'crime']</td>\n",
              "      <td>['US']</td>\n",
              "      <td>NaN</td>\n",
              "      <td>tt0033870</td>\n",
              "      <td>8.0</td>\n",
              "      <td>156603.0</td>\n",
              "      <td>12.788</td>\n",
              "      <td>7.8</td>\n",
              "    </tr>\n",
              "  </tbody>\n",
              "</table>\n",
              "</div>\n",
              "      <button class=\"colab-df-convert\" onclick=\"convertToInteractive('df-0fc9477b-b9bb-4440-a309-712646dd8580')\"\n",
              "              title=\"Convert this dataframe to an interactive table.\"\n",
              "              style=\"display:none;\">\n",
              "\n",
              "  <svg xmlns=\"http://www.w3.org/2000/svg\" height=\"24px\"viewBox=\"0 0 24 24\"\n",
              "       width=\"24px\">\n",
              "    <path d=\"M0 0h24v24H0V0z\" fill=\"none\"/>\n",
              "    <path d=\"M18.56 5.44l.94 2.06.94-2.06 2.06-.94-2.06-.94-.94-2.06-.94 2.06-2.06.94zm-11 1L8.5 8.5l.94-2.06 2.06-.94-2.06-.94L8.5 2.5l-.94 2.06-2.06.94zm10 10l.94 2.06.94-2.06 2.06-.94-2.06-.94-.94-2.06-.94 2.06-2.06.94z\"/><path d=\"M17.41 7.96l-1.37-1.37c-.4-.4-.92-.59-1.43-.59-.52 0-1.04.2-1.43.59L10.3 9.45l-7.72 7.72c-.78.78-.78 2.05 0 2.83L4 21.41c.39.39.9.59 1.41.59.51 0 1.02-.2 1.41-.59l7.78-7.78 2.81-2.81c.8-.78.8-2.07 0-2.86zM5.41 20L4 18.59l7.72-7.72 1.47 1.35L5.41 20z\"/>\n",
              "  </svg>\n",
              "      </button>\n",
              "\n",
              "\n",
              "\n",
              "    <div id=\"df-695b36ab-1b50-4e8c-afe1-698961cfefb6\">\n",
              "      <button class=\"colab-df-quickchart\" onclick=\"quickchart('df-695b36ab-1b50-4e8c-afe1-698961cfefb6')\"\n",
              "              title=\"Suggest charts.\"\n",
              "              style=\"display:none;\">\n",
              "\n",
              "<svg xmlns=\"http://www.w3.org/2000/svg\" height=\"24px\"viewBox=\"0 0 24 24\"\n",
              "     width=\"24px\">\n",
              "    <g>\n",
              "        <path d=\"M19 3H5c-1.1 0-2 .9-2 2v14c0 1.1.9 2 2 2h14c1.1 0 2-.9 2-2V5c0-1.1-.9-2-2-2zM9 17H7v-7h2v7zm4 0h-2V7h2v10zm4 0h-2v-4h2v4z\"/>\n",
              "    </g>\n",
              "</svg>\n",
              "      </button>\n",
              "    </div>\n",
              "\n",
              "<style>\n",
              "  .colab-df-quickchart {\n",
              "    background-color: #E8F0FE;\n",
              "    border: none;\n",
              "    border-radius: 50%;\n",
              "    cursor: pointer;\n",
              "    display: none;\n",
              "    fill: #1967D2;\n",
              "    height: 32px;\n",
              "    padding: 0 0 0 0;\n",
              "    width: 32px;\n",
              "  }\n",
              "\n",
              "  .colab-df-quickchart:hover {\n",
              "    background-color: #E2EBFA;\n",
              "    box-shadow: 0px 1px 2px rgba(60, 64, 67, 0.3), 0px 1px 3px 1px rgba(60, 64, 67, 0.15);\n",
              "    fill: #174EA6;\n",
              "  }\n",
              "\n",
              "  [theme=dark] .colab-df-quickchart {\n",
              "    background-color: #3B4455;\n",
              "    fill: #D2E3FC;\n",
              "  }\n",
              "\n",
              "  [theme=dark] .colab-df-quickchart:hover {\n",
              "    background-color: #434B5C;\n",
              "    box-shadow: 0px 1px 3px 1px rgba(0, 0, 0, 0.15);\n",
              "    filter: drop-shadow(0px 1px 2px rgba(0, 0, 0, 0.3));\n",
              "    fill: #FFFFFF;\n",
              "  }\n",
              "</style>\n",
              "\n",
              "    <script>\n",
              "      async function quickchart(key) {\n",
              "        const containerElement = document.querySelector('#' + key);\n",
              "        const charts = await google.colab.kernel.invokeFunction(\n",
              "            'suggestCharts', [key], {});\n",
              "      }\n",
              "    </script>\n",
              "\n",
              "      <script>\n",
              "\n",
              "function displayQuickchartButton(domScope) {\n",
              "  let quickchartButtonEl =\n",
              "    domScope.querySelector('#df-695b36ab-1b50-4e8c-afe1-698961cfefb6 button.colab-df-quickchart');\n",
              "  quickchartButtonEl.style.display =\n",
              "    google.colab.kernel.accessAllowed ? 'block' : 'none';\n",
              "}\n",
              "\n",
              "        displayQuickchartButton(document);\n",
              "      </script>\n",
              "      <style>\n",
              "    .colab-df-container {\n",
              "      display:flex;\n",
              "      flex-wrap:wrap;\n",
              "      gap: 12px;\n",
              "    }\n",
              "\n",
              "    .colab-df-convert {\n",
              "      background-color: #E8F0FE;\n",
              "      border: none;\n",
              "      border-radius: 50%;\n",
              "      cursor: pointer;\n",
              "      display: none;\n",
              "      fill: #1967D2;\n",
              "      height: 32px;\n",
              "      padding: 0 0 0 0;\n",
              "      width: 32px;\n",
              "    }\n",
              "\n",
              "    .colab-df-convert:hover {\n",
              "      background-color: #E2EBFA;\n",
              "      box-shadow: 0px 1px 2px rgba(60, 64, 67, 0.3), 0px 1px 3px 1px rgba(60, 64, 67, 0.15);\n",
              "      fill: #174EA6;\n",
              "    }\n",
              "\n",
              "    [theme=dark] .colab-df-convert {\n",
              "      background-color: #3B4455;\n",
              "      fill: #D2E3FC;\n",
              "    }\n",
              "\n",
              "    [theme=dark] .colab-df-convert:hover {\n",
              "      background-color: #434B5C;\n",
              "      box-shadow: 0px 1px 3px 1px rgba(0, 0, 0, 0.15);\n",
              "      filter: drop-shadow(0px 1px 2px rgba(0, 0, 0, 0.3));\n",
              "      fill: #FFFFFF;\n",
              "    }\n",
              "  </style>\n",
              "\n",
              "      <script>\n",
              "        const buttonEl =\n",
              "          document.querySelector('#df-0fc9477b-b9bb-4440-a309-712646dd8580 button.colab-df-convert');\n",
              "        buttonEl.style.display =\n",
              "          google.colab.kernel.accessAllowed ? 'block' : 'none';\n",
              "\n",
              "        async function convertToInteractive(key) {\n",
              "          const element = document.querySelector('#df-0fc9477b-b9bb-4440-a309-712646dd8580');\n",
              "          const dataTable =\n",
              "            await google.colab.kernel.invokeFunction('convertToInteractive',\n",
              "                                                     [key], {});\n",
              "          if (!dataTable) return;\n",
              "\n",
              "          const docLinkHtml = 'Like what you see? Visit the ' +\n",
              "            '<a target=\"_blank\" href=https://colab.research.google.com/notebooks/data_table.ipynb>data table notebook</a>'\n",
              "            + ' to learn more about interactive tables.';\n",
              "          element.innerHTML = '';\n",
              "          dataTable['output_type'] = 'display_data';\n",
              "          await google.colab.output.renderOutput(dataTable, element);\n",
              "          const docLink = document.createElement('div');\n",
              "          docLink.innerHTML = docLinkHtml;\n",
              "          element.appendChild(docLink);\n",
              "        }\n",
              "      </script>\n",
              "    </div>\n",
              "  </div>\n"
            ]
          },
          "metadata": {},
          "execution_count": 244
        }
      ]
    },
    {
      "cell_type": "code",
      "source": [
        "# Últimos 5 registros\n",
        "df.tail()"
      ],
      "metadata": {
        "colab": {
          "base_uri": "https://localhost:8080/",
          "height": 548
        },
        "id": "aIL5FNBf-SBL",
        "outputId": "e3767414-8d11-4c32-dede-8982e41c43cd"
      },
      "execution_count": 245,
      "outputs": [
        {
          "output_type": "execute_result",
          "data": {
            "text/plain": [
              "             id                                           title   type  \\\n",
              "3289  tm1082718  Romeo Santos: Utopia Live from MetLife Stadium  MOVIE   \n",
              "3290  tm1067128                                       Algo Azul  MOVIE   \n",
              "3291  tm1121489                        Entre Nos: What She Said  MOVIE   \n",
              "3292  tm1121486                        Entre Nos: The Winners 2  MOVIE   \n",
              "3293   tm989132                             The Infamous Future  MOVIE   \n",
              "\n",
              "                                            description  release_year  \\\n",
              "3289  In this Concert he focuses on the star and mos...          2021   \n",
              "3290                     Romantic comedy...coming soon.          2021   \n",
              "3291  A stand-up comedy special featuring Shari Diaz...          2021   \n",
              "3292  Comedy special starring winners of the second ...          2021   \n",
              "3293  The untold story of New York City's Eagle Acad...          2021   \n",
              "\n",
              "     age_certification  runtime                genres production_countries  \\\n",
              "3289               NaN      103  ['romance', 'music']               ['PR']   \n",
              "3290               NaN       90            ['comedy']               ['PA']   \n",
              "3291               NaN       28            ['comedy']                   []   \n",
              "3292               NaN       28            ['comedy']                   []   \n",
              "3293               NaN       40     ['documentation']               ['US']   \n",
              "\n",
              "      seasons     imdb_id  imdb_score  imdb_votes  tmdb_popularity  tmdb_score  \n",
              "3289      NaN         NaN         NaN         NaN            8.425         8.1  \n",
              "3290      NaN   tt9257620         5.9        50.0            1.400         2.0  \n",
              "3291      NaN  tt15532762         NaN         NaN              NaN         NaN  \n",
              "3292      NaN  tt15532736         NaN         NaN              NaN         NaN  \n",
              "3293      NaN   tt9064760         NaN         NaN            1.101         5.3  "
            ],
            "text/html": [
              "\n",
              "\n",
              "  <div id=\"df-1539d131-1606-4586-a312-759ffcbab4b3\">\n",
              "    <div class=\"colab-df-container\">\n",
              "      <div>\n",
              "<style scoped>\n",
              "    .dataframe tbody tr th:only-of-type {\n",
              "        vertical-align: middle;\n",
              "    }\n",
              "\n",
              "    .dataframe tbody tr th {\n",
              "        vertical-align: top;\n",
              "    }\n",
              "\n",
              "    .dataframe thead th {\n",
              "        text-align: right;\n",
              "    }\n",
              "</style>\n",
              "<table border=\"1\" class=\"dataframe\">\n",
              "  <thead>\n",
              "    <tr style=\"text-align: right;\">\n",
              "      <th></th>\n",
              "      <th>id</th>\n",
              "      <th>title</th>\n",
              "      <th>type</th>\n",
              "      <th>description</th>\n",
              "      <th>release_year</th>\n",
              "      <th>age_certification</th>\n",
              "      <th>runtime</th>\n",
              "      <th>genres</th>\n",
              "      <th>production_countries</th>\n",
              "      <th>seasons</th>\n",
              "      <th>imdb_id</th>\n",
              "      <th>imdb_score</th>\n",
              "      <th>imdb_votes</th>\n",
              "      <th>tmdb_popularity</th>\n",
              "      <th>tmdb_score</th>\n",
              "    </tr>\n",
              "  </thead>\n",
              "  <tbody>\n",
              "    <tr>\n",
              "      <th>3289</th>\n",
              "      <td>tm1082718</td>\n",
              "      <td>Romeo Santos: Utopia Live from MetLife Stadium</td>\n",
              "      <td>MOVIE</td>\n",
              "      <td>In this Concert he focuses on the star and mos...</td>\n",
              "      <td>2021</td>\n",
              "      <td>NaN</td>\n",
              "      <td>103</td>\n",
              "      <td>['romance', 'music']</td>\n",
              "      <td>['PR']</td>\n",
              "      <td>NaN</td>\n",
              "      <td>NaN</td>\n",
              "      <td>NaN</td>\n",
              "      <td>NaN</td>\n",
              "      <td>8.425</td>\n",
              "      <td>8.1</td>\n",
              "    </tr>\n",
              "    <tr>\n",
              "      <th>3290</th>\n",
              "      <td>tm1067128</td>\n",
              "      <td>Algo Azul</td>\n",
              "      <td>MOVIE</td>\n",
              "      <td>Romantic comedy...coming soon.</td>\n",
              "      <td>2021</td>\n",
              "      <td>NaN</td>\n",
              "      <td>90</td>\n",
              "      <td>['comedy']</td>\n",
              "      <td>['PA']</td>\n",
              "      <td>NaN</td>\n",
              "      <td>tt9257620</td>\n",
              "      <td>5.9</td>\n",
              "      <td>50.0</td>\n",
              "      <td>1.400</td>\n",
              "      <td>2.0</td>\n",
              "    </tr>\n",
              "    <tr>\n",
              "      <th>3291</th>\n",
              "      <td>tm1121489</td>\n",
              "      <td>Entre Nos: What She Said</td>\n",
              "      <td>MOVIE</td>\n",
              "      <td>A stand-up comedy special featuring Shari Diaz...</td>\n",
              "      <td>2021</td>\n",
              "      <td>NaN</td>\n",
              "      <td>28</td>\n",
              "      <td>['comedy']</td>\n",
              "      <td>[]</td>\n",
              "      <td>NaN</td>\n",
              "      <td>tt15532762</td>\n",
              "      <td>NaN</td>\n",
              "      <td>NaN</td>\n",
              "      <td>NaN</td>\n",
              "      <td>NaN</td>\n",
              "    </tr>\n",
              "    <tr>\n",
              "      <th>3292</th>\n",
              "      <td>tm1121486</td>\n",
              "      <td>Entre Nos: The Winners 2</td>\n",
              "      <td>MOVIE</td>\n",
              "      <td>Comedy special starring winners of the second ...</td>\n",
              "      <td>2021</td>\n",
              "      <td>NaN</td>\n",
              "      <td>28</td>\n",
              "      <td>['comedy']</td>\n",
              "      <td>[]</td>\n",
              "      <td>NaN</td>\n",
              "      <td>tt15532736</td>\n",
              "      <td>NaN</td>\n",
              "      <td>NaN</td>\n",
              "      <td>NaN</td>\n",
              "      <td>NaN</td>\n",
              "    </tr>\n",
              "    <tr>\n",
              "      <th>3293</th>\n",
              "      <td>tm989132</td>\n",
              "      <td>The Infamous Future</td>\n",
              "      <td>MOVIE</td>\n",
              "      <td>The untold story of New York City's Eagle Acad...</td>\n",
              "      <td>2021</td>\n",
              "      <td>NaN</td>\n",
              "      <td>40</td>\n",
              "      <td>['documentation']</td>\n",
              "      <td>['US']</td>\n",
              "      <td>NaN</td>\n",
              "      <td>tt9064760</td>\n",
              "      <td>NaN</td>\n",
              "      <td>NaN</td>\n",
              "      <td>1.101</td>\n",
              "      <td>5.3</td>\n",
              "    </tr>\n",
              "  </tbody>\n",
              "</table>\n",
              "</div>\n",
              "      <button class=\"colab-df-convert\" onclick=\"convertToInteractive('df-1539d131-1606-4586-a312-759ffcbab4b3')\"\n",
              "              title=\"Convert this dataframe to an interactive table.\"\n",
              "              style=\"display:none;\">\n",
              "\n",
              "  <svg xmlns=\"http://www.w3.org/2000/svg\" height=\"24px\"viewBox=\"0 0 24 24\"\n",
              "       width=\"24px\">\n",
              "    <path d=\"M0 0h24v24H0V0z\" fill=\"none\"/>\n",
              "    <path d=\"M18.56 5.44l.94 2.06.94-2.06 2.06-.94-2.06-.94-.94-2.06-.94 2.06-2.06.94zm-11 1L8.5 8.5l.94-2.06 2.06-.94-2.06-.94L8.5 2.5l-.94 2.06-2.06.94zm10 10l.94 2.06.94-2.06 2.06-.94-2.06-.94-.94-2.06-.94 2.06-2.06.94z\"/><path d=\"M17.41 7.96l-1.37-1.37c-.4-.4-.92-.59-1.43-.59-.52 0-1.04.2-1.43.59L10.3 9.45l-7.72 7.72c-.78.78-.78 2.05 0 2.83L4 21.41c.39.39.9.59 1.41.59.51 0 1.02-.2 1.41-.59l7.78-7.78 2.81-2.81c.8-.78.8-2.07 0-2.86zM5.41 20L4 18.59l7.72-7.72 1.47 1.35L5.41 20z\"/>\n",
              "  </svg>\n",
              "      </button>\n",
              "\n",
              "\n",
              "\n",
              "    <div id=\"df-23ff9711-2d25-43b7-8f6e-2a6abeda80fb\">\n",
              "      <button class=\"colab-df-quickchart\" onclick=\"quickchart('df-23ff9711-2d25-43b7-8f6e-2a6abeda80fb')\"\n",
              "              title=\"Suggest charts.\"\n",
              "              style=\"display:none;\">\n",
              "\n",
              "<svg xmlns=\"http://www.w3.org/2000/svg\" height=\"24px\"viewBox=\"0 0 24 24\"\n",
              "     width=\"24px\">\n",
              "    <g>\n",
              "        <path d=\"M19 3H5c-1.1 0-2 .9-2 2v14c0 1.1.9 2 2 2h14c1.1 0 2-.9 2-2V5c0-1.1-.9-2-2-2zM9 17H7v-7h2v7zm4 0h-2V7h2v10zm4 0h-2v-4h2v4z\"/>\n",
              "    </g>\n",
              "</svg>\n",
              "      </button>\n",
              "    </div>\n",
              "\n",
              "<style>\n",
              "  .colab-df-quickchart {\n",
              "    background-color: #E8F0FE;\n",
              "    border: none;\n",
              "    border-radius: 50%;\n",
              "    cursor: pointer;\n",
              "    display: none;\n",
              "    fill: #1967D2;\n",
              "    height: 32px;\n",
              "    padding: 0 0 0 0;\n",
              "    width: 32px;\n",
              "  }\n",
              "\n",
              "  .colab-df-quickchart:hover {\n",
              "    background-color: #E2EBFA;\n",
              "    box-shadow: 0px 1px 2px rgba(60, 64, 67, 0.3), 0px 1px 3px 1px rgba(60, 64, 67, 0.15);\n",
              "    fill: #174EA6;\n",
              "  }\n",
              "\n",
              "  [theme=dark] .colab-df-quickchart {\n",
              "    background-color: #3B4455;\n",
              "    fill: #D2E3FC;\n",
              "  }\n",
              "\n",
              "  [theme=dark] .colab-df-quickchart:hover {\n",
              "    background-color: #434B5C;\n",
              "    box-shadow: 0px 1px 3px 1px rgba(0, 0, 0, 0.15);\n",
              "    filter: drop-shadow(0px 1px 2px rgba(0, 0, 0, 0.3));\n",
              "    fill: #FFFFFF;\n",
              "  }\n",
              "</style>\n",
              "\n",
              "    <script>\n",
              "      async function quickchart(key) {\n",
              "        const containerElement = document.querySelector('#' + key);\n",
              "        const charts = await google.colab.kernel.invokeFunction(\n",
              "            'suggestCharts', [key], {});\n",
              "      }\n",
              "    </script>\n",
              "\n",
              "      <script>\n",
              "\n",
              "function displayQuickchartButton(domScope) {\n",
              "  let quickchartButtonEl =\n",
              "    domScope.querySelector('#df-23ff9711-2d25-43b7-8f6e-2a6abeda80fb button.colab-df-quickchart');\n",
              "  quickchartButtonEl.style.display =\n",
              "    google.colab.kernel.accessAllowed ? 'block' : 'none';\n",
              "}\n",
              "\n",
              "        displayQuickchartButton(document);\n",
              "      </script>\n",
              "      <style>\n",
              "    .colab-df-container {\n",
              "      display:flex;\n",
              "      flex-wrap:wrap;\n",
              "      gap: 12px;\n",
              "    }\n",
              "\n",
              "    .colab-df-convert {\n",
              "      background-color: #E8F0FE;\n",
              "      border: none;\n",
              "      border-radius: 50%;\n",
              "      cursor: pointer;\n",
              "      display: none;\n",
              "      fill: #1967D2;\n",
              "      height: 32px;\n",
              "      padding: 0 0 0 0;\n",
              "      width: 32px;\n",
              "    }\n",
              "\n",
              "    .colab-df-convert:hover {\n",
              "      background-color: #E2EBFA;\n",
              "      box-shadow: 0px 1px 2px rgba(60, 64, 67, 0.3), 0px 1px 3px 1px rgba(60, 64, 67, 0.15);\n",
              "      fill: #174EA6;\n",
              "    }\n",
              "\n",
              "    [theme=dark] .colab-df-convert {\n",
              "      background-color: #3B4455;\n",
              "      fill: #D2E3FC;\n",
              "    }\n",
              "\n",
              "    [theme=dark] .colab-df-convert:hover {\n",
              "      background-color: #434B5C;\n",
              "      box-shadow: 0px 1px 3px 1px rgba(0, 0, 0, 0.15);\n",
              "      filter: drop-shadow(0px 1px 2px rgba(0, 0, 0, 0.3));\n",
              "      fill: #FFFFFF;\n",
              "    }\n",
              "  </style>\n",
              "\n",
              "      <script>\n",
              "        const buttonEl =\n",
              "          document.querySelector('#df-1539d131-1606-4586-a312-759ffcbab4b3 button.colab-df-convert');\n",
              "        buttonEl.style.display =\n",
              "          google.colab.kernel.accessAllowed ? 'block' : 'none';\n",
              "\n",
              "        async function convertToInteractive(key) {\n",
              "          const element = document.querySelector('#df-1539d131-1606-4586-a312-759ffcbab4b3');\n",
              "          const dataTable =\n",
              "            await google.colab.kernel.invokeFunction('convertToInteractive',\n",
              "                                                     [key], {});\n",
              "          if (!dataTable) return;\n",
              "\n",
              "          const docLinkHtml = 'Like what you see? Visit the ' +\n",
              "            '<a target=\"_blank\" href=https://colab.research.google.com/notebooks/data_table.ipynb>data table notebook</a>'\n",
              "            + ' to learn more about interactive tables.';\n",
              "          element.innerHTML = '';\n",
              "          dataTable['output_type'] = 'display_data';\n",
              "          await google.colab.output.renderOutput(dataTable, element);\n",
              "          const docLink = document.createElement('div');\n",
              "          docLink.innerHTML = docLinkHtml;\n",
              "          element.appendChild(docLink);\n",
              "        }\n",
              "      </script>\n",
              "    </div>\n",
              "  </div>\n"
            ]
          },
          "metadata": {},
          "execution_count": 245
        }
      ]
    },
    {
      "cell_type": "code",
      "source": [
        "# Informações sobre o DataFrame\n",
        "df.info()"
      ],
      "metadata": {
        "colab": {
          "base_uri": "https://localhost:8080/"
        },
        "id": "58rb7G-V-kaj",
        "outputId": "eaeed06e-5b29-403e-f653-006eba67443a"
      },
      "execution_count": 246,
      "outputs": [
        {
          "output_type": "stream",
          "name": "stdout",
          "text": [
            "<class 'pandas.core.frame.DataFrame'>\n",
            "RangeIndex: 3294 entries, 0 to 3293\n",
            "Data columns (total 15 columns):\n",
            " #   Column                Non-Null Count  Dtype  \n",
            "---  ------                --------------  -----  \n",
            " 0   id                    3294 non-null   object \n",
            " 1   title                 3294 non-null   object \n",
            " 2   type                  3294 non-null   object \n",
            " 3   description           3282 non-null   object \n",
            " 4   release_year          3294 non-null   int64  \n",
            " 5   age_certification     2086 non-null   object \n",
            " 6   runtime               3294 non-null   int64  \n",
            " 7   genres                3294 non-null   object \n",
            " 8   production_countries  3294 non-null   object \n",
            " 9   seasons               756 non-null    float64\n",
            " 10  imdb_id               2968 non-null   object \n",
            " 11  imdb_score            2922 non-null   float64\n",
            " 12  imdb_votes            2911 non-null   float64\n",
            " 13  tmdb_popularity       3261 non-null   float64\n",
            " 14  tmdb_score            3026 non-null   float64\n",
            "dtypes: float64(5), int64(2), object(8)\n",
            "memory usage: 386.1+ KB\n"
          ]
        }
      ]
    },
    {
      "cell_type": "code",
      "source": [
        "# Descrição estatística do Dataset\n",
        "df.describe()"
      ],
      "metadata": {
        "colab": {
          "base_uri": "https://localhost:8080/",
          "height": 300
        },
        "id": "i0bRz0iC_IVb",
        "outputId": "d7c2e16a-0772-467d-d0f3-641c6ee6cd6d"
      },
      "execution_count": 247,
      "outputs": [
        {
          "output_type": "execute_result",
          "data": {
            "text/plain": [
              "       release_year      runtime     seasons   imdb_score    imdb_votes  \\\n",
              "count   3294.000000  3294.000000  756.000000  2922.000000  2.911000e+03   \n",
              "mean    2001.194293    80.914997    2.998677     6.883949  6.461835e+04   \n",
              "std       23.542337    38.475347    3.651181     1.059668  1.754617e+05   \n",
              "min     1901.000000     1.000000    1.000000     1.500000  5.000000e+00   \n",
              "25%     1995.000000    51.250000    1.000000     6.300000  9.245000e+02   \n",
              "50%     2010.000000    89.000000    2.000000     7.000000  8.071000e+03   \n",
              "75%     2018.000000   106.000000    4.000000     7.600000  4.764500e+04   \n",
              "max     2022.000000   255.000000   52.000000     9.400000  2.555504e+06   \n",
              "\n",
              "       tmdb_popularity   tmdb_score  \n",
              "count      3261.000000  3026.000000  \n",
              "mean         21.105891     6.850099  \n",
              "std          89.137800     1.081377  \n",
              "min           0.050393     1.000000  \n",
              "25%           3.450000     6.200000  \n",
              "50%           8.561000     6.900000  \n",
              "75%          17.711000     7.500000  \n",
              "max        4447.894000    10.000000  "
            ],
            "text/html": [
              "\n",
              "\n",
              "  <div id=\"df-3eb43879-637e-4e2b-bceb-116c3794053b\">\n",
              "    <div class=\"colab-df-container\">\n",
              "      <div>\n",
              "<style scoped>\n",
              "    .dataframe tbody tr th:only-of-type {\n",
              "        vertical-align: middle;\n",
              "    }\n",
              "\n",
              "    .dataframe tbody tr th {\n",
              "        vertical-align: top;\n",
              "    }\n",
              "\n",
              "    .dataframe thead th {\n",
              "        text-align: right;\n",
              "    }\n",
              "</style>\n",
              "<table border=\"1\" class=\"dataframe\">\n",
              "  <thead>\n",
              "    <tr style=\"text-align: right;\">\n",
              "      <th></th>\n",
              "      <th>release_year</th>\n",
              "      <th>runtime</th>\n",
              "      <th>seasons</th>\n",
              "      <th>imdb_score</th>\n",
              "      <th>imdb_votes</th>\n",
              "      <th>tmdb_popularity</th>\n",
              "      <th>tmdb_score</th>\n",
              "    </tr>\n",
              "  </thead>\n",
              "  <tbody>\n",
              "    <tr>\n",
              "      <th>count</th>\n",
              "      <td>3294.000000</td>\n",
              "      <td>3294.000000</td>\n",
              "      <td>756.000000</td>\n",
              "      <td>2922.000000</td>\n",
              "      <td>2.911000e+03</td>\n",
              "      <td>3261.000000</td>\n",
              "      <td>3026.000000</td>\n",
              "    </tr>\n",
              "    <tr>\n",
              "      <th>mean</th>\n",
              "      <td>2001.194293</td>\n",
              "      <td>80.914997</td>\n",
              "      <td>2.998677</td>\n",
              "      <td>6.883949</td>\n",
              "      <td>6.461835e+04</td>\n",
              "      <td>21.105891</td>\n",
              "      <td>6.850099</td>\n",
              "    </tr>\n",
              "    <tr>\n",
              "      <th>std</th>\n",
              "      <td>23.542337</td>\n",
              "      <td>38.475347</td>\n",
              "      <td>3.651181</td>\n",
              "      <td>1.059668</td>\n",
              "      <td>1.754617e+05</td>\n",
              "      <td>89.137800</td>\n",
              "      <td>1.081377</td>\n",
              "    </tr>\n",
              "    <tr>\n",
              "      <th>min</th>\n",
              "      <td>1901.000000</td>\n",
              "      <td>1.000000</td>\n",
              "      <td>1.000000</td>\n",
              "      <td>1.500000</td>\n",
              "      <td>5.000000e+00</td>\n",
              "      <td>0.050393</td>\n",
              "      <td>1.000000</td>\n",
              "    </tr>\n",
              "    <tr>\n",
              "      <th>25%</th>\n",
              "      <td>1995.000000</td>\n",
              "      <td>51.250000</td>\n",
              "      <td>1.000000</td>\n",
              "      <td>6.300000</td>\n",
              "      <td>9.245000e+02</td>\n",
              "      <td>3.450000</td>\n",
              "      <td>6.200000</td>\n",
              "    </tr>\n",
              "    <tr>\n",
              "      <th>50%</th>\n",
              "      <td>2010.000000</td>\n",
              "      <td>89.000000</td>\n",
              "      <td>2.000000</td>\n",
              "      <td>7.000000</td>\n",
              "      <td>8.071000e+03</td>\n",
              "      <td>8.561000</td>\n",
              "      <td>6.900000</td>\n",
              "    </tr>\n",
              "    <tr>\n",
              "      <th>75%</th>\n",
              "      <td>2018.000000</td>\n",
              "      <td>106.000000</td>\n",
              "      <td>4.000000</td>\n",
              "      <td>7.600000</td>\n",
              "      <td>4.764500e+04</td>\n",
              "      <td>17.711000</td>\n",
              "      <td>7.500000</td>\n",
              "    </tr>\n",
              "    <tr>\n",
              "      <th>max</th>\n",
              "      <td>2022.000000</td>\n",
              "      <td>255.000000</td>\n",
              "      <td>52.000000</td>\n",
              "      <td>9.400000</td>\n",
              "      <td>2.555504e+06</td>\n",
              "      <td>4447.894000</td>\n",
              "      <td>10.000000</td>\n",
              "    </tr>\n",
              "  </tbody>\n",
              "</table>\n",
              "</div>\n",
              "      <button class=\"colab-df-convert\" onclick=\"convertToInteractive('df-3eb43879-637e-4e2b-bceb-116c3794053b')\"\n",
              "              title=\"Convert this dataframe to an interactive table.\"\n",
              "              style=\"display:none;\">\n",
              "\n",
              "  <svg xmlns=\"http://www.w3.org/2000/svg\" height=\"24px\"viewBox=\"0 0 24 24\"\n",
              "       width=\"24px\">\n",
              "    <path d=\"M0 0h24v24H0V0z\" fill=\"none\"/>\n",
              "    <path d=\"M18.56 5.44l.94 2.06.94-2.06 2.06-.94-2.06-.94-.94-2.06-.94 2.06-2.06.94zm-11 1L8.5 8.5l.94-2.06 2.06-.94-2.06-.94L8.5 2.5l-.94 2.06-2.06.94zm10 10l.94 2.06.94-2.06 2.06-.94-2.06-.94-.94-2.06-.94 2.06-2.06.94z\"/><path d=\"M17.41 7.96l-1.37-1.37c-.4-.4-.92-.59-1.43-.59-.52 0-1.04.2-1.43.59L10.3 9.45l-7.72 7.72c-.78.78-.78 2.05 0 2.83L4 21.41c.39.39.9.59 1.41.59.51 0 1.02-.2 1.41-.59l7.78-7.78 2.81-2.81c.8-.78.8-2.07 0-2.86zM5.41 20L4 18.59l7.72-7.72 1.47 1.35L5.41 20z\"/>\n",
              "  </svg>\n",
              "      </button>\n",
              "\n",
              "\n",
              "\n",
              "    <div id=\"df-d39a88ca-b679-47f2-b6ea-d729c6914b92\">\n",
              "      <button class=\"colab-df-quickchart\" onclick=\"quickchart('df-d39a88ca-b679-47f2-b6ea-d729c6914b92')\"\n",
              "              title=\"Suggest charts.\"\n",
              "              style=\"display:none;\">\n",
              "\n",
              "<svg xmlns=\"http://www.w3.org/2000/svg\" height=\"24px\"viewBox=\"0 0 24 24\"\n",
              "     width=\"24px\">\n",
              "    <g>\n",
              "        <path d=\"M19 3H5c-1.1 0-2 .9-2 2v14c0 1.1.9 2 2 2h14c1.1 0 2-.9 2-2V5c0-1.1-.9-2-2-2zM9 17H7v-7h2v7zm4 0h-2V7h2v10zm4 0h-2v-4h2v4z\"/>\n",
              "    </g>\n",
              "</svg>\n",
              "      </button>\n",
              "    </div>\n",
              "\n",
              "<style>\n",
              "  .colab-df-quickchart {\n",
              "    background-color: #E8F0FE;\n",
              "    border: none;\n",
              "    border-radius: 50%;\n",
              "    cursor: pointer;\n",
              "    display: none;\n",
              "    fill: #1967D2;\n",
              "    height: 32px;\n",
              "    padding: 0 0 0 0;\n",
              "    width: 32px;\n",
              "  }\n",
              "\n",
              "  .colab-df-quickchart:hover {\n",
              "    background-color: #E2EBFA;\n",
              "    box-shadow: 0px 1px 2px rgba(60, 64, 67, 0.3), 0px 1px 3px 1px rgba(60, 64, 67, 0.15);\n",
              "    fill: #174EA6;\n",
              "  }\n",
              "\n",
              "  [theme=dark] .colab-df-quickchart {\n",
              "    background-color: #3B4455;\n",
              "    fill: #D2E3FC;\n",
              "  }\n",
              "\n",
              "  [theme=dark] .colab-df-quickchart:hover {\n",
              "    background-color: #434B5C;\n",
              "    box-shadow: 0px 1px 3px 1px rgba(0, 0, 0, 0.15);\n",
              "    filter: drop-shadow(0px 1px 2px rgba(0, 0, 0, 0.3));\n",
              "    fill: #FFFFFF;\n",
              "  }\n",
              "</style>\n",
              "\n",
              "    <script>\n",
              "      async function quickchart(key) {\n",
              "        const containerElement = document.querySelector('#' + key);\n",
              "        const charts = await google.colab.kernel.invokeFunction(\n",
              "            'suggestCharts', [key], {});\n",
              "      }\n",
              "    </script>\n",
              "\n",
              "      <script>\n",
              "\n",
              "function displayQuickchartButton(domScope) {\n",
              "  let quickchartButtonEl =\n",
              "    domScope.querySelector('#df-d39a88ca-b679-47f2-b6ea-d729c6914b92 button.colab-df-quickchart');\n",
              "  quickchartButtonEl.style.display =\n",
              "    google.colab.kernel.accessAllowed ? 'block' : 'none';\n",
              "}\n",
              "\n",
              "        displayQuickchartButton(document);\n",
              "      </script>\n",
              "      <style>\n",
              "    .colab-df-container {\n",
              "      display:flex;\n",
              "      flex-wrap:wrap;\n",
              "      gap: 12px;\n",
              "    }\n",
              "\n",
              "    .colab-df-convert {\n",
              "      background-color: #E8F0FE;\n",
              "      border: none;\n",
              "      border-radius: 50%;\n",
              "      cursor: pointer;\n",
              "      display: none;\n",
              "      fill: #1967D2;\n",
              "      height: 32px;\n",
              "      padding: 0 0 0 0;\n",
              "      width: 32px;\n",
              "    }\n",
              "\n",
              "    .colab-df-convert:hover {\n",
              "      background-color: #E2EBFA;\n",
              "      box-shadow: 0px 1px 2px rgba(60, 64, 67, 0.3), 0px 1px 3px 1px rgba(60, 64, 67, 0.15);\n",
              "      fill: #174EA6;\n",
              "    }\n",
              "\n",
              "    [theme=dark] .colab-df-convert {\n",
              "      background-color: #3B4455;\n",
              "      fill: #D2E3FC;\n",
              "    }\n",
              "\n",
              "    [theme=dark] .colab-df-convert:hover {\n",
              "      background-color: #434B5C;\n",
              "      box-shadow: 0px 1px 3px 1px rgba(0, 0, 0, 0.15);\n",
              "      filter: drop-shadow(0px 1px 2px rgba(0, 0, 0, 0.3));\n",
              "      fill: #FFFFFF;\n",
              "    }\n",
              "  </style>\n",
              "\n",
              "      <script>\n",
              "        const buttonEl =\n",
              "          document.querySelector('#df-3eb43879-637e-4e2b-bceb-116c3794053b button.colab-df-convert');\n",
              "        buttonEl.style.display =\n",
              "          google.colab.kernel.accessAllowed ? 'block' : 'none';\n",
              "\n",
              "        async function convertToInteractive(key) {\n",
              "          const element = document.querySelector('#df-3eb43879-637e-4e2b-bceb-116c3794053b');\n",
              "          const dataTable =\n",
              "            await google.colab.kernel.invokeFunction('convertToInteractive',\n",
              "                                                     [key], {});\n",
              "          if (!dataTable) return;\n",
              "\n",
              "          const docLinkHtml = 'Like what you see? Visit the ' +\n",
              "            '<a target=\"_blank\" href=https://colab.research.google.com/notebooks/data_table.ipynb>data table notebook</a>'\n",
              "            + ' to learn more about interactive tables.';\n",
              "          element.innerHTML = '';\n",
              "          dataTable['output_type'] = 'display_data';\n",
              "          await google.colab.output.renderOutput(dataTable, element);\n",
              "          const docLink = document.createElement('div');\n",
              "          docLink.innerHTML = docLinkHtml;\n",
              "          element.appendChild(docLink);\n",
              "        }\n",
              "      </script>\n",
              "    </div>\n",
              "  </div>\n"
            ]
          },
          "metadata": {},
          "execution_count": 247
        }
      ]
    },
    {
      "cell_type": "markdown",
      "source": [
        "# **Dados ausentes**"
      ],
      "metadata": {
        "id": "6GZsNxLn_z8y"
      }
    },
    {
      "cell_type": "code",
      "source": [
        "# Valores nulos no dataset\n",
        "df.isnull().sum()"
      ],
      "metadata": {
        "colab": {
          "base_uri": "https://localhost:8080/"
        },
        "id": "iJ62JTJB_45b",
        "outputId": "34cc3ad6-2bd2-458e-e2a2-edcec7b28825"
      },
      "execution_count": 248,
      "outputs": [
        {
          "output_type": "execute_result",
          "data": {
            "text/plain": [
              "id                         0\n",
              "title                      0\n",
              "type                       0\n",
              "description               12\n",
              "release_year               0\n",
              "age_certification       1208\n",
              "runtime                    0\n",
              "genres                     0\n",
              "production_countries       0\n",
              "seasons                 2538\n",
              "imdb_id                  326\n",
              "imdb_score               372\n",
              "imdb_votes               383\n",
              "tmdb_popularity           33\n",
              "tmdb_score               268\n",
              "dtype: int64"
            ]
          },
          "metadata": {},
          "execution_count": 248
        }
      ]
    },
    {
      "cell_type": "code",
      "source": [
        "# Preencher valores nulos na coluna de descrição com \"Desconhecido\"\n",
        "df['description'].fillna('Desconhecido', inplace=True)\n",
        "\n",
        "# Preencher valores nulos na coluna de classificação de idade com \"Desconhecido\"\n",
        "df['age_certification'].fillna('Desconhecido', inplace=True)\n",
        "\n",
        "# Preencher valores nulos na coluna de temporadas com 0 (para títulos que não são séries)\n",
        "df['seasons'].fillna(0, inplace=True)\n",
        "\n",
        "# Preencher valores nulos na coluna de imdb_id com \"Desconhecido\"\n",
        "df['imdb_id'].fillna('Desconhecido', inplace=True)\n",
        "\n",
        "# Preencher valores nulos nas colunas de pontuação e votos com 0\n",
        "df['imdb_score'].fillna(0, inplace=True)\n",
        "df['imdb_votes'].fillna(0, inplace=True)\n",
        "df['tmdb_popularity'].fillna(0, inplace=True)\n",
        "df['tmdb_score'].fillna(0, inplace=True)"
      ],
      "metadata": {
        "id": "YhqIl6H-AWsi"
      },
      "execution_count": 249,
      "outputs": []
    },
    {
      "cell_type": "code",
      "source": [
        "# Atualização de valores nulos no DataFrame\n",
        "df.info()"
      ],
      "metadata": {
        "colab": {
          "base_uri": "https://localhost:8080/"
        },
        "id": "ErVT84KXC40S",
        "outputId": "ffb91e4e-228d-42d9-b611-e29246a44542"
      },
      "execution_count": 251,
      "outputs": [
        {
          "output_type": "stream",
          "name": "stdout",
          "text": [
            "<class 'pandas.core.frame.DataFrame'>\n",
            "RangeIndex: 3294 entries, 0 to 3293\n",
            "Data columns (total 15 columns):\n",
            " #   Column                Non-Null Count  Dtype  \n",
            "---  ------                --------------  -----  \n",
            " 0   id                    3294 non-null   object \n",
            " 1   title                 3294 non-null   object \n",
            " 2   type                  3294 non-null   object \n",
            " 3   description           3294 non-null   object \n",
            " 4   release_year          3294 non-null   int64  \n",
            " 5   age_certification     3294 non-null   object \n",
            " 6   runtime               3294 non-null   int64  \n",
            " 7   genres                3294 non-null   object \n",
            " 8   production_countries  3294 non-null   object \n",
            " 9   seasons               3294 non-null   float64\n",
            " 10  imdb_id               3294 non-null   object \n",
            " 11  imdb_score            3294 non-null   float64\n",
            " 12  imdb_votes            3294 non-null   float64\n",
            " 13  tmdb_popularity       3294 non-null   float64\n",
            " 14  tmdb_score            3294 non-null   float64\n",
            "dtypes: float64(5), int64(2), object(8)\n",
            "memory usage: 386.1+ KB\n"
          ]
        }
      ]
    },
    {
      "cell_type": "code",
      "source": [
        "# Retorno de valores ausentes\n",
        "df.isna().sum()"
      ],
      "metadata": {
        "colab": {
          "base_uri": "https://localhost:8080/"
        },
        "id": "OrdmBgABDIYa",
        "outputId": "2ca5f91a-7de7-4348-d1d4-3da0ec30ac1c"
      },
      "execution_count": 252,
      "outputs": [
        {
          "output_type": "execute_result",
          "data": {
            "text/plain": [
              "id                      0\n",
              "title                   0\n",
              "type                    0\n",
              "description             0\n",
              "release_year            0\n",
              "age_certification       0\n",
              "runtime                 0\n",
              "genres                  0\n",
              "production_countries    0\n",
              "seasons                 0\n",
              "imdb_id                 0\n",
              "imdb_score              0\n",
              "imdb_votes              0\n",
              "tmdb_popularity         0\n",
              "tmdb_score              0\n",
              "dtype: int64"
            ]
          },
          "metadata": {},
          "execution_count": 252
        }
      ]
    },
    {
      "cell_type": "code",
      "source": [
        "# Paleta de cores\n",
        "sns.palplot(['#000000', '#941de8','#7a6be2', '#7ba7f2'])\n",
        "\n",
        "plt.title(\"HBO Max Palette \",loc='left',fontsize=15,y=1)\n",
        "plt.show()"
      ],
      "metadata": {
        "colab": {
          "base_uri": "https://localhost:8080/",
          "height": 143
        },
        "id": "d5RdC5G0DqcS",
        "outputId": "9a8dce7c-2ba4-48ff-e47e-eef5c9a3defd"
      },
      "execution_count": 253,
      "outputs": [
        {
          "output_type": "display_data",
          "data": {
            "text/plain": [
              "<Figure size 400x100 with 1 Axes>"
            ],
            "image/png": "[encoded data removed]"
          },
          "metadata": {}
        }
      ]
    },
    {
      "cell_type": "markdown",
      "source": [
        "# **Principais conteúdos da HBO Max**"
      ],
      "metadata": {
        "id": "I_gyVmnDHZAg"
      }
    },
    {
      "cell_type": "code",
      "source": [
        "# Ordenar os títulos pela pontuação no IMDB em ordem decrescente\n",
        "top_imdb_scores = df.sort_values(by='imdb_score', ascending=False)\n",
        "\n",
        "# Ordenar os títulos pela popularidade no TMDB em ordem decrescente\n",
        "top_tmdb_popularity = df.sort_values(by='tmdb_popularity', ascending=False)\n",
        "\n",
        "# Ordenar os títulos pelo número de votos no IMDB em ordem decrescente\n",
        "top_imdb_votes = df.sort_values(by='imdb_votes', ascending=False)\n",
        "\n",
        "# Visualizar os títulos mais populares\n",
        "print(\"Top 10 títulos com maior pontuação no IMDB:\")\n",
        "print(top_imdb_scores[['title', 'imdb_score']].head(10))\n",
        "\n",
        "print(\"\\nTop 10 títulos com maior popularidade no TMDB:\")\n",
        "print(top_tmdb_popularity[['title', 'tmdb_popularity']].head(10))\n",
        "\n",
        "print(\"\\nTop 10 títulos com mais votos no IMDB:\")\n",
        "print(top_imdb_votes[['title', 'imdb_votes']].head(10))"
      ],
      "metadata": {
        "colab": {
          "base_uri": "https://localhost:8080/"
        },
        "id": "DjjiQ8e_yk23",
        "outputId": "c53b548b-73a9-424d-c37c-11a2e54a2994"
      },
      "execution_count": 254,
      "outputs": [
        {
          "output_type": "stream",
          "name": "stdout",
          "text": [
            "Top 10 títulos com maior pontuação no IMDB:\n",
            "                         title  imdb_score\n",
            "1038          Band of Brothers         9.4\n",
            "2531                 Chernobyl         9.4\n",
            "1030                  The Wire         9.3\n",
            "2330                    Lamput         9.3\n",
            "725   The Shawshank Redemption         9.3\n",
            "712               The Sopranos         9.2\n",
            "2275         Emergency Contact         9.2\n",
            "1706           Game of Thrones         9.2\n",
            "669          Eyes on the Prize         9.2\n",
            "1878            Rick and Morty         9.2\n",
            "\n",
            "Top 10 títulos com maior popularidade no TMDB:\n",
            "                         title  tmdb_popularity\n",
            "2974                The Batman         4447.894\n",
            "2987                  The Baby          757.816\n",
            "2991  The Matrix Resurrections          641.541\n",
            "3016                      Kimi          565.886\n",
            "2997            The King's Man          559.090\n",
            "3005           Superman & Lois          527.634\n",
            "1706           Game of Thrones          492.101\n",
            "2529                  Euphoria          445.399\n",
            "2990                  Free Guy          398.516\n",
            "2978         Death on the Nile          386.008\n",
            "\n",
            "Top 10 títulos com mais votos no IMDB:\n",
            "                                                  title  imdb_votes\n",
            "1035                                    The Dark Knight   2555504.0\n",
            "725                            The Shawshank Redemption   2548100.0\n",
            "1051                                          Inception   2268288.0\n",
            "1706                                    Game of Thrones   1983794.0\n",
            "732                                          The Matrix   1857949.0\n",
            "1033  The Lord of the Rings: The Fellowship of the Ring   1798012.0\n",
            "1209      The Lord of the Rings: The Return of the King   1776725.0\n",
            "1151              The Lord of the Rings: The Two Towers   1604677.0\n",
            "716                                               Se7en   1586065.0\n",
            "1045                                      Batman Begins   1426616.0\n"
          ]
        }
      ]
    },
    {
      "cell_type": "markdown",
      "source": [
        "# **Usando apenas os primeiros gêneros de cada título**"
      ],
      "metadata": {
        "id": "x7mfX6zUtt_b"
      }
    },
    {
      "cell_type": "code",
      "source": [
        "# Visualizar a coluna 'genre' e listar todos os gêneros únicos\n",
        "unique_genres = df['genres'].str.split(', ').explode().unique()\n",
        "print(unique_genres)"
      ],
      "metadata": {
        "colab": {
          "base_uri": "https://localhost:8080/"
        },
        "id": "1RlfH278lOrG",
        "outputId": "6791d2a9-77c6-4ff1-c2a2-497ee25f3c56"
      },
      "execution_count": 255,
      "outputs": [
        {
          "output_type": "stream",
          "name": "stdout",
          "text": [
            "[\"['fantasy'\" \"'family']\" \"['drama']\" \"['drama'\" \"'romance'\" \"'war']\"\n",
            " \"['thriller'\" \"'crime']\" \"['war'\" \"'drama'\" \"'history']\" \"['animation'\"\n",
            " \"'comedy'\" \"'family'\" \"'action']\" \"['western'\" \"'drama']\" \"'thriller'\"\n",
            " \"['romance'\" \"'comedy']\" \"'music']\" \"'european'\" \"'horror']\" \"['comedy'\"\n",
            " \"'war'\" \"['thriller']\" \"'european']\" \"['horror'\" \"'documentation'\"\n",
            " \"'fantasy'\" \"'horror'\" \"'scifi']\" \"'romance']\" \"['crime'\" \"'thriller']\"\n",
            " \"'history'\" \"['action'\" \"'western'\" \"['scifi'\" \"'music'\" \"'fantasy']\"\n",
            " \"'sport']\" \"'sport'\" \"['western']\" \"'crime'\" \"['history'\"\n",
            " \"'documentation']\" \"['comedy']\" \"['music'\" \"'western']\" \"'action'\"\n",
            " \"'animation'\" \"'scifi'\" \"['documentation'\" \"['fantasy']\" \"['romance']\"\n",
            " '[]' \"['documentation']\" \"['crime']\" \"['scifi']\" \"['family'\"\n",
            " \"'animation']\" \"['horror']\" \"'reality'\" \"['animation']\" \"'reality']\"\n",
            " \"['sport']\" \"['reality'\" \"['reality']\" \"['music']\" \"['european']\"\n",
            " \"['war']\" \"['family']\" \"['action']\"]\n"
          ]
        }
      ]
    },
    {
      "cell_type": "code",
      "source": [
        "# Copiar o DataFrame original para evitar alterações indesejadas\n",
        "df_copy = df.copy()\n",
        "\n",
        "# Pré-processamento para considerar apenas o primeiro gênero de cada título\n",
        "df['first_genre'] = df['genres'].str.split(',').str[0].str.strip()\n",
        "\n",
        "# Remover os caracteres '[]' e \"''\" do início e fim dos gêneros\n",
        "df['first_genre'] = df['first_genre'].str.strip(\"[]'\")\n",
        "\n",
        "# Preencher valores vazios na coluna 'first_genre' com a categoria \"Outros\"\n",
        "df['first_genre'].replace('', 'outros', inplace=True)\n",
        "\n",
        "# Contar a quantidade de títulos em cada gênero\n",
        "genre_counts = df['first_genre'].value_counts()\n",
        "\n",
        "# Calcular o total de títulos\n",
        "total_titles = len(df)\n",
        "\n",
        "# Imprimir o resultado\n",
        "print(\"Quantidade de Títulos por Gênero:\")\n",
        "print(genre_counts)\n",
        "print(\"\\nTotal de Títulos:\", total_titles)"
      ],
      "metadata": {
        "colab": {
          "base_uri": "https://localhost:8080/"
        },
        "id": "qFx3L1GRrxqK",
        "outputId": "d6e1abfc-e0ea-432f-9327-33d80aca5f3d"
      },
      "execution_count": 267,
      "outputs": [
        {
          "output_type": "stream",
          "name": "stdout",
          "text": [
            "Quantidade de Títulos por Gênero:\n",
            "drama            746\n",
            "comedy           606\n",
            "documentation    548\n",
            "thriller         262\n",
            "scifi            191\n",
            "fantasy          162\n",
            "romance          139\n",
            "action           121\n",
            "crime            110\n",
            "animation         99\n",
            "horror            69\n",
            "outros            53\n",
            "reality           53\n",
            "western           38\n",
            "music             33\n",
            "family            23\n",
            "history           22\n",
            "war               14\n",
            "sport              3\n",
            "european           2\n",
            "Name: first_genre, dtype: int64\n",
            "\n",
            "Total de Títulos: 3294\n"
          ]
        }
      ]
    },
    {
      "cell_type": "markdown",
      "source": [
        "# **Quantidade de títulos por gênero**"
      ],
      "metadata": {
        "id": "syqzevhZuQvi"
      }
    },
    {
      "cell_type": "code",
      "source": [
        "# Ordenar os gêneros de acordo com a quantidade de títulos (ordem decrescente)\n",
        "genre_counts = genre_counts.sort_values(ascending=False)\n",
        "\n",
        "# Agrupar categorias pouco representativas em uma categoria \"Outros\"\n",
        "threshold = 55\n",
        "other_genres_count = genre_counts[genre_counts < threshold].sum()\n",
        "genre_counts = genre_counts[genre_counts >= threshold]\n",
        "genre_counts['Outros'] = other_genres_count\n",
        "\n",
        "# Plotar o gráfico de barras horizontais\n",
        "plt.figure(figsize=(12, 8))\n",
        "sns.barplot(x=genre_counts.values, y=genre_counts.index, palette='crest')\n",
        "plt.title('Quantidade de Títulos por Gênero', fontsize=16, pad=20)\n",
        "plt.xlabel('Quantidade de Títulos', fontsize=14, labelpad=10)\n",
        "plt.ylabel('Gênero', fontsize=14, labelpad=10)\n",
        "plt.tick_params(axis='both', which='major', labelsize=12)\n",
        "plt.yticks(ha='right')\n",
        "sns.despine()\n",
        "plt.show()"
      ],
      "metadata": {
        "colab": {
          "base_uri": "https://localhost:8080/",
          "height": 691
        },
        "id": "J-w_lcCyJkjw",
        "outputId": "f8a92d7d-e4e1-44e0-c843-dcad7d4b2fbe"
      },
      "execution_count": 268,
      "outputs": [
        {
          "output_type": "display_data",
          "data": {
            "text/plain": [
              "<Figure size 1200x800 with 1 Axes>"
            ],
            "image/png": "[encoded data removed]"
          },
          "metadata": {}
        }
      ]
    },
    {
      "cell_type": "markdown",
      "source": [
        "# **Filmes x Séries**"
      ],
      "metadata": {
        "id": "RTrmfwj_0Ou3"
      }
    },
    {
      "cell_type": "code",
      "source": [
        "# Contar a quantidade de séries e filmes\n",
        "type_counts = df['type'].value_counts()\n",
        "\n",
        "# Calcular as porcentagens\n",
        "total_count = len(df)\n",
        "percentage_series = (type_counts['SHOW'] / total_count) * 100\n",
        "percentage_movies = (type_counts['MOVIE'] / total_count) * 100\n",
        "\n",
        "# Configurar os dados para o gráfico de pizza\n",
        "labels = ['Séries', 'Filmes']\n",
        "sizes = [percentage_series, percentage_movies]\n",
        "colors = ['#7ba7f2', '#941de8']\n",
        "explode = (0.1, 0)\n",
        "\n",
        "# Plotar o gráfico de pizza\n",
        "plt.figure(figsize=(8, 6))\n",
        "plt.pie(sizes, explode=explode, labels=labels, colors=colors, autopct='%1.1f%%', shadow=True, startangle=140)\n",
        "plt.axis('equal')\n",
        "plt.title('Distribuição entre Séries e Filmes', fontsize=16)\n",
        "plt.show()"
      ],
      "metadata": {
        "colab": {
          "base_uri": "https://localhost:8080/",
          "height": 524
        },
        "id": "-ougG-rYh3xe",
        "outputId": "d6fceb7d-14c1-4f98-bbaa-f81d51788465"
      },
      "execution_count": 269,
      "outputs": [
        {
          "output_type": "display_data",
          "data": {
            "text/plain": [
              "<Figure size 800x600 with 1 Axes>"
            ],
            "image/png": "[encoded data removed]"
          },
          "metadata": {}
        }
      ]
    },
    {
      "cell_type": "markdown",
      "source": [
        "# **Transformando a classificação indicativa no padrão brasileiro**"
      ],
      "metadata": {
        "id": "9PhmSc8y0zU_"
      }
    },
    {
      "cell_type": "code",
      "source": [
        "# Visualizar a coluna 'age_certification' e listar todos as classificações únicas\n",
        "unique_ages = df['age_certification'].str.split(', ').explode().unique()\n",
        "print(unique_ages)"
      ],
      "metadata": {
        "colab": {
          "base_uri": "https://localhost:8080/"
        },
        "id": "DsFqRgLJ1qt_",
        "outputId": "b6ad66b9-6fc2-4671-eb92-f8e6d532b664"
      },
      "execution_count": 270,
      "outputs": [
        {
          "output_type": "stream",
          "name": "stdout",
          "text": [
            "['G' 'PG' 'Desconhecido' 'PG-13' 'R' 'TV-G' 'TV-Y' 'TV-PG' 'TV-Y7' 'NC-17'\n",
            " 'TV-14' 'TV-MA']\n"
          ]
        }
      ]
    },
    {
      "cell_type": "code",
      "source": [
        "# Mapeamento das classificações indicativas americanas para as brasileiras\n",
        "age_mapping = {\n",
        "    'G': 'Livre',\n",
        "    'TV-G': 'Livre',\n",
        "    'TV-Y': 'Livre',\n",
        "    'PG': '10/12',\n",
        "    'TV-Y7': '10/12',\n",
        "    'PG-13': '14',\n",
        "    'TV-14': '14',\n",
        "    'TV-PG': '14',\n",
        "    'R': '16',\n",
        "    'NC-17': '18',\n",
        "    'TV-MA': '18',\n",
        "    'Desconhecido': 'Desconhecido'\n",
        "}\n",
        "\n",
        "# Aplicar o mapeamento à coluna 'age_certification' do DataFrame\n",
        "df['age_certification_brasil'] = df['age_certification'].map(age_mapping)\n",
        "\n",
        "# Visualizar a coluna 'age_certification_brasil' e listar todas as classificações únicas brasileiras\n",
        "unique_ages_brasil = df['age_certification_brasil'].unique()\n",
        "print(unique_ages_brasil)"
      ],
      "metadata": {
        "colab": {
          "base_uri": "https://localhost:8080/"
        },
        "id": "saaFofIEL3Zw",
        "outputId": "f24e722d-3c74-4f80-d0ce-d15008e1a2ef"
      },
      "execution_count": 271,
      "outputs": [
        {
          "output_type": "stream",
          "name": "stdout",
          "text": [
            "['Livre' '10/12' 'Desconhecido' '14' '16' '18']\n"
          ]
        }
      ]
    },
    {
      "cell_type": "code",
      "source": [
        "# Contar a quantidade de títulos em cada classificação de idade\n",
        "age_cert_counts = df['age_certification_brasil'].value_counts()\n",
        "\n",
        "# Plotar o gráfico de barras\n",
        "plt.figure(figsize=(8, 6))\n",
        "age_cert_counts.plot(kind='bar')\n",
        "plt.title('Quantidade de Títulos por Classificação de Idade', fontsize=15, pad=20)\n",
        "plt.xlabel('Classificação de Idade', fontsize=13, labelpad=10)\n",
        "plt.ylabel('Quantidade de Títulos', fontsize=13, labelpad=10)\n",
        "plt.xticks(rotation=0, fontsize=10)\n",
        "sns.despine()\n",
        "plt.show()"
      ],
      "metadata": {
        "colab": {
          "base_uri": "https://localhost:8080/",
          "height": 599
        },
        "id": "S62J712CJ4ZH",
        "outputId": "a042d456-b9e7-4814-a649-b78681513944"
      },
      "execution_count": 272,
      "outputs": [
        {
          "output_type": "display_data",
          "data": {
            "text/plain": [
              "<Figure size 800x600 with 1 Axes>"
            ],
            "image/png": "[encoded data removed]"
          },
          "metadata": {}
        }
      ]
    },
    {
      "cell_type": "markdown",
      "source": [
        "# **Recomendações de títulos com base na descrição**"
      ],
      "metadata": {
        "id": "BXNphjVcNJAt"
      }
    },
    {
      "cell_type": "code",
      "source": [
        "# Pré-processamento das descrições (remover nulos e transformar em texto)\n",
        "df['description'] = df['description'].fillna('')\n",
        "text_data = df['description']\n",
        "\n",
        "# Aplicar o TF-IDF nas descrições\n",
        "tfidf_vectorizer = TfidfVectorizer(stop_words='english')\n",
        "tfidf_matrix = tfidf_vectorizer.fit_transform(text_data)\n",
        "\n",
        "# Calcular a similaridade cosseno entre os títulos com base nas descrições\n",
        "cosine_sim = linear_kernel(tfidf_matrix, tfidf_matrix)\n",
        "\n",
        "# Função para obter recomendações de títulos com base em uma entrada\n",
        "def get_recommendations(title):\n",
        "    # Verificar se o título fornecido está presente no conjunto de dados\n",
        "    if title not in df['title'].values:\n",
        "        print(f\"O título '{title}' não foi encontrado no conjunto de dados.\")\n",
        "        return []\n",
        "\n",
        "    idx = df[df['title'] == title].index[0]\n",
        "    sim_scores = list(enumerate(cosine_sim[idx]))\n",
        "    sim_scores = sorted(sim_scores, key=lambda x: x[1], reverse=True)\n",
        "\n",
        "    # Remover o índice do título fornecido da lista de recomendações\n",
        "    sim_scores = [score for score in sim_scores if score[0] != idx]\n",
        "\n",
        "    # Obter os índices dos títulos mais similares\n",
        "    title_indices = [i[0] for i in sim_scores[:10]]\n",
        "\n",
        "    # Retornar os títulos recomendados\n",
        "    return df['title'].iloc[title_indices]\n",
        "\n",
        "# Exemplo de recomendação para um título específico\n",
        "input_title = 'Game of Thrones'  # Substituir pelo título desejado\n",
        "recommendations = get_recommendations(input_title)\n",
        "print(f\"Recomendações para '{input_title}':\")\n",
        "print(recommendations)"
      ],
      "metadata": {
        "colab": {
          "base_uri": "https://localhost:8080/"
        },
        "id": "m1WAC_1eKdQX",
        "outputId": "da01bf47-de6a-4559-8577-4e67d2c9a0bd"
      },
      "execution_count": 273,
      "outputs": [
        {
          "output_type": "stream",
          "name": "stdout",
          "text": [
            "Recomendações para 'Game of Thrones':\n",
            "1908         Percy Jackson: Sea of Monsters\n",
            "2132                              The Brink\n",
            "1580                     Wartorn: 1861-2010\n",
            "409             The Marriage of Maria Braun\n",
            "2712                          Human Capital\n",
            "1038                       Band of Brothers\n",
            "418                        Hearts and Minds\n",
            "1624     Bill Maher: Victory Begins at Home\n",
            "27      The Life and Death of Colonel Blimp\n",
            "1832                               Profugos\n",
            "Name: title, dtype: object\n"
          ]
        }
      ]
    },
    {
      "cell_type": "markdown",
      "source": [
        "# **Recomendações de títulos com base na classificação de idade (18+)**"
      ],
      "metadata": {
        "id": "VPJw-tkyOCv-"
      }
    },
    {
      "cell_type": "code",
      "source": [
        "# Pré-processamento da classificação de idade (remover nulos e transformar em texto)\n",
        "df['age_certification_brasil'] = df['age_certification_brasil'].fillna('')\n",
        "age_data = df['age_certification_brasil']\n",
        "\n",
        "# Aplicar o TF-IDF na classificação de idade\n",
        "age_tfidf_vectorizer = TfidfVectorizer()\n",
        "age_tfidf_matrix = age_tfidf_vectorizer.fit_transform(age_data)\n",
        "\n",
        "# Calcular a similaridade cosseno entre os títulos com base na classificação de idade\n",
        "age_cosine_sim = linear_kernel(age_tfidf_matrix, age_tfidf_matrix)\n",
        "\n",
        "def get_age_recommendations(title):\n",
        "    # Verificar se o título fornecido está presente no conjunto de dados\n",
        "    if title not in df['title'].values:\n",
        "        print(f\"O título '{title}' não foi encontrado no conjunto de dados.\")\n",
        "        return []\n",
        "\n",
        "    idx = df[df['title'] == title].index[0]\n",
        "    sim_scores = list(enumerate(age_cosine_sim[idx]))\n",
        "    sim_scores = sorted(sim_scores, key=lambda x: x[1], reverse=True)\n",
        "\n",
        "    # Remover o índice do título fornecido da lista de recomendações\n",
        "    sim_scores = [score for score in sim_scores if score[0] != idx]\n",
        "\n",
        "    # Obter os índices dos títulos mais similares\n",
        "    title_indices = [i[0] for i in sim_scores[:10]]\n",
        "\n",
        "    # Retornar os títulos recomendados com suas respectivas classificações de idade\n",
        "    return df[['title', 'age_certification_brasil']].iloc[title_indices]\n",
        "\n",
        "# Exemplo de recomendação para um título específico com base na classificação de idade\n",
        "input_title = 'Chernobyl'  # Substituir pelo título desejado\n",
        "age_recommendations = get_age_recommendations(input_title)\n",
        "print(f\"Recomendações baseadas na classificação de idade para '{input_title}':\")\n",
        "print(age_recommendations)"
      ],
      "metadata": {
        "colab": {
          "base_uri": "https://localhost:8080/"
        },
        "id": "YKB0EOJ2OB8G",
        "outputId": "a97c0383-65cf-4730-e4d3-a0a8131433ef"
      },
      "execution_count": 274,
      "outputs": [
        {
          "output_type": "stream",
          "name": "stdout",
          "text": [
            "Recomendações baseadas na classificação de idade para 'Chernobyl':\n",
            "                           title age_certification_brasil\n",
            "324                      Onibaba                       18\n",
            "618      Tie Me Up! Tie Me Down!                       18\n",
            "708                   South Park                       18\n",
            "712                 The Sopranos                       18\n",
            "714  Mr. Show with Bob and David                       18\n",
            "724         Curb Your Enthusiasm                       18\n",
            "758       Aqua Teen Hunger Force                       18\n",
            "763             Sex and the City                       18\n",
            "787                           Oz                       18\n",
            "800       The Larry Sanders Show                       18\n"
          ]
        }
      ]
    },
    {
      "cell_type": "markdown",
      "source": [
        "# **Recomendações de títulos com base no gênero (Comédia)**"
      ],
      "metadata": {
        "id": "ZJqxzI6xSxdc"
      }
    },
    {
      "cell_type": "code",
      "source": [
        "# Pré-processamento dos gêneros (remover nulos e transformar em texto)\n",
        "df['first_genre'] = df['first_genre'].fillna('')\n",
        "genres_data = df['first_genre']\n",
        "\n",
        "# Aplicar o TF-IDF nos gêneros\n",
        "genres_tfidf_vectorizer = TfidfVectorizer()\n",
        "genres_tfidf_matrix = genres_tfidf_vectorizer.fit_transform(genres_data)\n",
        "\n",
        "# Calcular a similaridade cosseno entre os títulos com base no gênero\n",
        "genres_cosine_sim = linear_kernel(genres_tfidf_matrix, genres_tfidf_matrix)\n",
        "\n",
        "# Função para obter recomendações de títulos com base no gênero\n",
        "def get_genre_recommendations(title):\n",
        "    # Verificar se o título fornecido está presente no conjunto de dados\n",
        "    if title not in df['title'].values:\n",
        "        print(f\"O título '{title}' não foi encontrado no conjunto de dados.\")\n",
        "        return []\n",
        "\n",
        "    idx = df[df['title'] == title].index[0]\n",
        "    sim_scores = list(enumerate(genres_cosine_sim[idx]))\n",
        "    sim_scores = sorted(sim_scores, key=lambda x: x[1], reverse=True)\n",
        "\n",
        "    # Remover o índice do título fornecido da lista de recomendações\n",
        "    sim_scores = [score for score in sim_scores if score[0] != idx]\n",
        "\n",
        "    # Obter os índices dos títulos mais similares\n",
        "    title_indices = [i[0] for i in sim_scores[:10]]\n",
        "\n",
        "    # Retornar os títulos recomendados com suas respectivas classificações de idade\n",
        "    return df[['title', 'first_genre']].iloc[title_indices]\n",
        "\n",
        "# Exemplo de recomendação para um título específico com base no gênero\n",
        "input_title = 'The Office'  # Substituir pelo título desejado\n",
        "genre_recommendations = get_genre_recommendations(input_title)\n",
        "print(f\"Recomendações baseadas no gênero para '{input_title}':\")\n",
        "print(genre_recommendations)"
      ],
      "metadata": {
        "colab": {
          "base_uri": "https://localhost:8080/"
        },
        "id": "9WugOOOrSu3E",
        "outputId": "6def8855-a344-4626-bd2f-cae07a8738bf"
      },
      "execution_count": 275,
      "outputs": [
        {
          "output_type": "stream",
          "name": "stdout",
          "text": [
            "Recomendações baseadas no gênero para 'The Office':\n",
            "                 title first_genre\n",
            "15  The Great Dictator      comedy\n",
            "24  To Be or Not to Be      comedy\n",
            "29         42nd Street      comedy\n",
            "44    The Gay Divorcee      comedy\n",
            "46       The Gold Rush      comedy\n",
            "61        Libeled Lady      comedy\n",
            "62           Show Boat      comedy\n",
            "63       Blithe Spirit      comedy\n",
            "65           Pygmalion      comedy\n",
            "67      Shall We Dance      comedy\n"
          ]
        }
      ]
    },
    {
      "cell_type": "markdown",
      "source": [
        "# **Top 10 filmes mais bem votados e pontuados pelo IMDB**"
      ],
      "metadata": {
        "id": "jwT-jBvzgc6g"
      }
    },
    {
      "cell_type": "code",
      "source": [
        "# Calcular a métrica de popularidade com base na imdb_score e imdb_votes\n",
        "# Considerando a média ponderada entre o imdb_score e o log do imdb_votes\n",
        "# A ideia é que filmes/séries com uma alta pontuação no IMDB e um grande número de votos sejam considerados mais populares\n",
        "# Aqui posso ajustar os pesos (w_score e w_votes) de acordo com minha preferência\n",
        "w_score = 0.7\n",
        "w_votes = 0.3\n",
        "df['popularity_score'] = w_score * df['imdb_score'] + w_votes * df['imdb_votes'].apply(lambda x: x if x == 0 else np.log(x))\n",
        "\n",
        "# Ordenar os títulos pela popularidade em ordem decrescente\n",
        "top_popularity = df.sort_values(by='popularity_score', ascending=False)\n",
        "\n",
        "# Exibir apenas os resultados dos títulos mais bem votados e pontuados\n",
        "result = top_popularity[['title', 'imdb_score', 'imdb_votes']].head(10)\n",
        "\n",
        "# Formatar o DataFrame para exibir as colunas lado a lado\n",
        "styled_result = result.style.set_table_styles([{\n",
        "    'selector': 'td',\n",
        "    'props': [('padding', '5px'), ('text-align', 'left')]\n",
        "}])\n",
        "\n",
        "print(\"Top 10 títulos mais bem votados e pontuados:\")\n",
        "display(styled_result)"
      ],
      "metadata": {
        "colab": {
          "base_uri": "https://localhost:8080/",
          "height": 380
        },
        "id": "a5D19a_1b9y5",
        "outputId": "2fcb7e84-bf9c-4bc8-acd3-47c97f314f8b"
      },
      "execution_count": 276,
      "outputs": [
        {
          "output_type": "stream",
          "name": "stdout",
          "text": [
            "Top 10 títulos mais bem votados e pontuados:\n"
          ]
        },
        {
          "output_type": "display_data",
          "data": {
            "text/plain": [
              "<pandas.io.formats.style.Styler at 0x7b0163257a60>"
            ],
            "text/html": [
              "<style type=\"text/css\">\n",
              "#T_d161d td {\n",
              "  padding: 5px;\n",
              "  text-align: left;\n",
              "}\n",
              "</style>\n",
              "<table id=\"T_d161d\" class=\"dataframe\">\n",
              "  <thead>\n",
              "    <tr>\n",
              "      <th class=\"blank level0\" >&nbsp;</th>\n",
              "      <th id=\"T_d161d_level0_col0\" class=\"col_heading level0 col0\" >title</th>\n",
              "      <th id=\"T_d161d_level0_col1\" class=\"col_heading level0 col1\" >imdb_score</th>\n",
              "      <th id=\"T_d161d_level0_col2\" class=\"col_heading level0 col2\" >imdb_votes</th>\n",
              "    </tr>\n",
              "  </thead>\n",
              "  <tbody>\n",
              "    <tr>\n",
              "      <th id=\"T_d161d_level0_row0\" class=\"row_heading level0 row0\" >725</th>\n",
              "      <td id=\"T_d161d_row0_col0\" class=\"data row0 col0\" >The Shawshank Redemption</td>\n",
              "      <td id=\"T_d161d_row0_col1\" class=\"data row0 col1\" >9.300000</td>\n",
              "      <td id=\"T_d161d_row0_col2\" class=\"data row0 col2\" >2548100.000000</td>\n",
              "    </tr>\n",
              "    <tr>\n",
              "      <th id=\"T_d161d_level0_row1\" class=\"row_heading level0 row1\" >1706</th>\n",
              "      <td id=\"T_d161d_row1_col0\" class=\"data row1 col0\" >Game of Thrones</td>\n",
              "      <td id=\"T_d161d_row1_col1\" class=\"data row1 col1\" >9.200000</td>\n",
              "      <td id=\"T_d161d_row1_col2\" class=\"data row1 col2\" >1983794.000000</td>\n",
              "    </tr>\n",
              "    <tr>\n",
              "      <th id=\"T_d161d_level0_row2\" class=\"row_heading level0 row2\" >1035</th>\n",
              "      <td id=\"T_d161d_row2_col0\" class=\"data row2 col0\" >The Dark Knight</td>\n",
              "      <td id=\"T_d161d_row2_col1\" class=\"data row2 col1\" >9.000000</td>\n",
              "      <td id=\"T_d161d_row2_col2\" class=\"data row2 col2\" >2555504.000000</td>\n",
              "    </tr>\n",
              "    <tr>\n",
              "      <th id=\"T_d161d_level0_row3\" class=\"row_heading level0 row3\" >1209</th>\n",
              "      <td id=\"T_d161d_row3_col0\" class=\"data row3 col0\" >The Lord of the Rings: The Return of the King</td>\n",
              "      <td id=\"T_d161d_row3_col1\" class=\"data row3 col1\" >9.000000</td>\n",
              "      <td id=\"T_d161d_row3_col2\" class=\"data row3 col2\" >1776725.000000</td>\n",
              "    </tr>\n",
              "    <tr>\n",
              "      <th id=\"T_d161d_level0_row4\" class=\"row_heading level0 row4\" >2531</th>\n",
              "      <td id=\"T_d161d_row4_col0\" class=\"data row4 col0\" >Chernobyl</td>\n",
              "      <td id=\"T_d161d_row4_col1\" class=\"data row4 col1\" >9.400000</td>\n",
              "      <td id=\"T_d161d_row4_col2\" class=\"data row4 col2\" >693955.000000</td>\n",
              "    </tr>\n",
              "    <tr>\n",
              "      <th id=\"T_d161d_level0_row5\" class=\"row_heading level0 row5\" >1051</th>\n",
              "      <td id=\"T_d161d_row5_col0\" class=\"data row5 col0\" >Inception</td>\n",
              "      <td id=\"T_d161d_row5_col1\" class=\"data row5 col1\" >8.800000</td>\n",
              "      <td id=\"T_d161d_row5_col2\" class=\"data row5 col2\" >2268288.000000</td>\n",
              "    </tr>\n",
              "    <tr>\n",
              "      <th id=\"T_d161d_level0_row6\" class=\"row_heading level0 row6\" >1033</th>\n",
              "      <td id=\"T_d161d_row6_col0\" class=\"data row6 col0\" >The Lord of the Rings: The Fellowship of the Ring</td>\n",
              "      <td id=\"T_d161d_row6_col1\" class=\"data row6 col1\" >8.800000</td>\n",
              "      <td id=\"T_d161d_row6_col2\" class=\"data row6 col2\" >1798012.000000</td>\n",
              "    </tr>\n",
              "    <tr>\n",
              "      <th id=\"T_d161d_level0_row7\" class=\"row_heading level0 row7\" >1038</th>\n",
              "      <td id=\"T_d161d_row7_col0\" class=\"data row7 col0\" >Band of Brothers</td>\n",
              "      <td id=\"T_d161d_row7_col1\" class=\"data row7 col1\" >9.400000</td>\n",
              "      <td id=\"T_d161d_row7_col2\" class=\"data row7 col2\" >440706.000000</td>\n",
              "    </tr>\n",
              "    <tr>\n",
              "      <th id=\"T_d161d_level0_row8\" class=\"row_heading level0 row8\" >1151</th>\n",
              "      <td id=\"T_d161d_row8_col0\" class=\"data row8 col0\" >The Lord of the Rings: The Two Towers</td>\n",
              "      <td id=\"T_d161d_row8_col1\" class=\"data row8 col1\" >8.800000</td>\n",
              "      <td id=\"T_d161d_row8_col2\" class=\"data row8 col2\" >1604677.000000</td>\n",
              "    </tr>\n",
              "    <tr>\n",
              "      <th id=\"T_d161d_level0_row9\" class=\"row_heading level0 row9\" >732</th>\n",
              "      <td id=\"T_d161d_row9_col0\" class=\"data row9 col0\" >The Matrix</td>\n",
              "      <td id=\"T_d161d_row9_col1\" class=\"data row9 col1\" >8.700000</td>\n",
              "      <td id=\"T_d161d_row9_col2\" class=\"data row9 col2\" >1857949.000000</td>\n",
              "    </tr>\n",
              "  </tbody>\n",
              "</table>\n"
            ]
          },
          "metadata": {}
        }
      ]
    },
    {
      "cell_type": "markdown",
      "source": [
        "# **Top 10 títulos mais populares pelo TMDB**"
      ],
      "metadata": {
        "id": "4agenUvZgi1u"
      }
    },
    {
      "cell_type": "code",
      "source": [
        "# Calcular a métrica de popularidade com base na tmdb_popularity e tmdb_score\n",
        "# Considerando a média ponderada entre o tmdb_score e a raiz quadrada da tmdb_popularity\n",
        "# A ideia é que filmes/séries com alta popularidade no TMDB e uma boa pontuação sejam considerados mais populares\n",
        "# Aqui posso ajustar os pesos (w_score e w_popularity) de acordo com minha preferência\n",
        "w_score = 0.1\n",
        "w_popularity = 0.9\n",
        "df['tmdb_popularity_score'] = w_score * df['tmdb_score'] + w_popularity * np.sqrt(df['tmdb_popularity'])\n",
        "\n",
        "# Ordenar os títulos pela popularidade no TMDB em ordem decrescente\n",
        "top_tmdb_popularity = df.sort_values(by='tmdb_popularity_score', ascending=False)\n",
        "\n",
        "# Exibir apenas os resultados dos títulos mais populares com base no TMDB\n",
        "result_tmdb = top_tmdb_popularity[['title', 'tmdb_score', 'tmdb_popularity']].head(10)\n",
        "\n",
        "# Formatar o DataFrame para exibir as colunas lado a lado\n",
        "styled_result_tmdb = result_tmdb.style.set_table_styles([{\n",
        "    'selector': 'td',\n",
        "    'props': [('padding', '5px'), ('text-align', 'left')]\n",
        "}])\n",
        "\n",
        "print(\"Top 10 títulos mais populares no TMDB:\")\n",
        "display(styled_result_tmdb)"
      ],
      "metadata": {
        "colab": {
          "base_uri": "https://localhost:8080/",
          "height": 380
        },
        "id": "y2hCB9cydDug",
        "outputId": "842907f9-8ccd-4831-ed26-2091fa2e7d73"
      },
      "execution_count": 277,
      "outputs": [
        {
          "output_type": "stream",
          "name": "stdout",
          "text": [
            "Top 10 títulos mais populares no TMDB:\n"
          ]
        },
        {
          "output_type": "display_data",
          "data": {
            "text/plain": [
              "<pandas.io.formats.style.Styler at 0x7b0156b533d0>"
            ],
            "text/html": [
              "<style type=\"text/css\">\n",
              "#T_61adf td {\n",
              "  padding: 5px;\n",
              "  text-align: left;\n",
              "}\n",
              "</style>\n",
              "<table id=\"T_61adf\" class=\"dataframe\">\n",
              "  <thead>\n",
              "    <tr>\n",
              "      <th class=\"blank level0\" >&nbsp;</th>\n",
              "      <th id=\"T_61adf_level0_col0\" class=\"col_heading level0 col0\" >title</th>\n",
              "      <th id=\"T_61adf_level0_col1\" class=\"col_heading level0 col1\" >tmdb_score</th>\n",
              "      <th id=\"T_61adf_level0_col2\" class=\"col_heading level0 col2\" >tmdb_popularity</th>\n",
              "    </tr>\n",
              "  </thead>\n",
              "  <tbody>\n",
              "    <tr>\n",
              "      <th id=\"T_61adf_level0_row0\" class=\"row_heading level0 row0\" >2974</th>\n",
              "      <td id=\"T_61adf_row0_col0\" class=\"data row0 col0\" >The Batman</td>\n",
              "      <td id=\"T_61adf_row0_col1\" class=\"data row0 col1\" >7.800000</td>\n",
              "      <td id=\"T_61adf_row0_col2\" class=\"data row0 col2\" >4447.894000</td>\n",
              "    </tr>\n",
              "    <tr>\n",
              "      <th id=\"T_61adf_level0_row1\" class=\"row_heading level0 row1\" >2987</th>\n",
              "      <td id=\"T_61adf_row1_col0\" class=\"data row1 col0\" >The Baby</td>\n",
              "      <td id=\"T_61adf_row1_col1\" class=\"data row1 col1\" >8.800000</td>\n",
              "      <td id=\"T_61adf_row1_col2\" class=\"data row1 col2\" >757.816000</td>\n",
              "    </tr>\n",
              "    <tr>\n",
              "      <th id=\"T_61adf_level0_row2\" class=\"row_heading level0 row2\" >2991</th>\n",
              "      <td id=\"T_61adf_row2_col0\" class=\"data row2 col0\" >The Matrix Resurrections</td>\n",
              "      <td id=\"T_61adf_row2_col1\" class=\"data row2 col1\" >6.700000</td>\n",
              "      <td id=\"T_61adf_row2_col2\" class=\"data row2 col2\" >641.541000</td>\n",
              "    </tr>\n",
              "    <tr>\n",
              "      <th id=\"T_61adf_level0_row3\" class=\"row_heading level0 row3\" >3016</th>\n",
              "      <td id=\"T_61adf_row3_col0\" class=\"data row3 col0\" >Kimi</td>\n",
              "      <td id=\"T_61adf_row3_col1\" class=\"data row3 col1\" >6.200000</td>\n",
              "      <td id=\"T_61adf_row3_col2\" class=\"data row3 col2\" >565.886000</td>\n",
              "    </tr>\n",
              "    <tr>\n",
              "      <th id=\"T_61adf_level0_row4\" class=\"row_heading level0 row4\" >2997</th>\n",
              "      <td id=\"T_61adf_row4_col0\" class=\"data row4 col0\" >The King's Man</td>\n",
              "      <td id=\"T_61adf_row4_col1\" class=\"data row4 col1\" >6.900000</td>\n",
              "      <td id=\"T_61adf_row4_col2\" class=\"data row4 col2\" >559.090000</td>\n",
              "    </tr>\n",
              "    <tr>\n",
              "      <th id=\"T_61adf_level0_row5\" class=\"row_heading level0 row5\" >3005</th>\n",
              "      <td id=\"T_61adf_row5_col0\" class=\"data row5 col0\" >Superman & Lois</td>\n",
              "      <td id=\"T_61adf_row5_col1\" class=\"data row5 col1\" >8.100000</td>\n",
              "      <td id=\"T_61adf_row5_col2\" class=\"data row5 col2\" >527.634000</td>\n",
              "    </tr>\n",
              "    <tr>\n",
              "      <th id=\"T_61adf_level0_row6\" class=\"row_heading level0 row6\" >1706</th>\n",
              "      <td id=\"T_61adf_row6_col0\" class=\"data row6 col0\" >Game of Thrones</td>\n",
              "      <td id=\"T_61adf_row6_col1\" class=\"data row6 col1\" >8.400000</td>\n",
              "      <td id=\"T_61adf_row6_col2\" class=\"data row6 col2\" >492.101000</td>\n",
              "    </tr>\n",
              "    <tr>\n",
              "      <th id=\"T_61adf_level0_row7\" class=\"row_heading level0 row7\" >2529</th>\n",
              "      <td id=\"T_61adf_row7_col0\" class=\"data row7 col0\" >Euphoria</td>\n",
              "      <td id=\"T_61adf_row7_col1\" class=\"data row7 col1\" >8.400000</td>\n",
              "      <td id=\"T_61adf_row7_col2\" class=\"data row7 col2\" >445.399000</td>\n",
              "    </tr>\n",
              "    <tr>\n",
              "      <th id=\"T_61adf_level0_row8\" class=\"row_heading level0 row8\" >2990</th>\n",
              "      <td id=\"T_61adf_row8_col0\" class=\"data row8 col0\" >Free Guy</td>\n",
              "      <td id=\"T_61adf_row8_col1\" class=\"data row8 col1\" >7.700000</td>\n",
              "      <td id=\"T_61adf_row8_col2\" class=\"data row8 col2\" >398.516000</td>\n",
              "    </tr>\n",
              "    <tr>\n",
              "      <th id=\"T_61adf_level0_row9\" class=\"row_heading level0 row9\" >2978</th>\n",
              "      <td id=\"T_61adf_row9_col0\" class=\"data row9 col0\" >Death on the Nile</td>\n",
              "      <td id=\"T_61adf_row9_col1\" class=\"data row9 col1\" >6.500000</td>\n",
              "      <td id=\"T_61adf_row9_col2\" class=\"data row9 col2\" >386.008000</td>\n",
              "    </tr>\n",
              "  </tbody>\n",
              "</table>\n"
            ]
          },
          "metadata": {}
        }
      ]
    }
  ]
}