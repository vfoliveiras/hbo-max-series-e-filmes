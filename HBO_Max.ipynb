{
  "nbformat": 4,
  "nbformat_minor": 0,
  "metadata": {
    "colab": {
      "provenance": [],
      "authorship_tag": "ABX9TyMaXgehNvvUu9b5KF3uJrVN"
    },
    "kernelspec": {
      "name": "python3",
      "display_name": "Python 3"
    },
    "language_info": {
      "name": "python"
    }
  },
  "cells": [
    {
      "cell_type": "markdown",
      "source": [
        "# **Importando bibliotecas**"
      ],
      "metadata": {
        "id": "-mjsEwUMxoex"
      }
    },
    {
      "cell_type": "code",
      "execution_count": 3,
      "metadata": {
        "id": "Rb9x_ErI8fe3"
      },
      "outputs": [],
      "source": [
        "import pandas as pd\n",
        "import matplotlib.pyplot as plt\n",
        "from sklearn.feature_extraction.text import TfidfVectorizer\n",
        "from sklearn.metrics.pairwise import linear_kernel"
      ]
    },
    {
      "cell_type": "markdown",
      "source": [
        "# **Carregando Dataset**"
      ],
      "metadata": {
        "id": "B_91nYpO7dK-"
      }
    },
    {
      "cell_type": "code",
      "source": [
        "# Carregar o conjunto de dados\n",
        "df = pd.read_csv('/content/titles.csv')\n",
        "\n",
        "# Visualizar as primeiras linhas do conjunto de dados\n",
        "print(df.head(5))"
      ],
      "metadata": {
        "colab": {
          "base_uri": "https://localhost:8080/"
        },
        "id": "dpOdUikHyeD_",
        "outputId": "c69cbf46-1e95-4d68-fb33-bc5977a96413"
      },
      "execution_count": 4,
      "outputs": [
        {
          "output_type": "stream",
          "name": "stdout",
          "text": [
            "         id               title   type  \\\n",
            "0  tm155702    The Wizard of Oz  MOVIE   \n",
            "1   tm83648        Citizen Kane  MOVIE   \n",
            "2   tm77588          Casablanca  MOVIE   \n",
            "3   tm82363       The Big Sleep  MOVIE   \n",
            "4   tm84701  The Maltese Falcon  MOVIE   \n",
            "\n",
            "                                         description  release_year  \\\n",
            "0  Young Dorothy finds herself in a magical world...          1939   \n",
            "1  Newspaper magnate, Charles Foster Kane is take...          1941   \n",
            "2  In Casablanca, Morocco in December 1941, a cyn...          1942   \n",
            "3  Private Investigator Philip Marlowe is hired b...          1946   \n",
            "4  A private detective takes on a case that invol...          1941   \n",
            "\n",
            "  age_certification  runtime                            genres  \\\n",
            "0                 G      102             ['fantasy', 'family']   \n",
            "1                PG      119                         ['drama']   \n",
            "2                PG      102       ['drama', 'romance', 'war']   \n",
            "3               NaN      116             ['thriller', 'crime']   \n",
            "4               NaN      100  ['thriller', 'romance', 'crime']   \n",
            "\n",
            "  production_countries  seasons    imdb_id  imdb_score  imdb_votes  \\\n",
            "0               ['US']      NaN  tt0032138         8.1    389774.0   \n",
            "1               ['US']      NaN  tt0033467         8.3    433804.0   \n",
            "2               ['US']      NaN  tt0034583         8.5    558849.0   \n",
            "3               ['US']      NaN  tt0038355         7.9     84494.0   \n",
            "4               ['US']      NaN  tt0033870         8.0    156603.0   \n",
            "\n",
            "   tmdb_popularity  tmdb_score  \n",
            "0           41.442         7.6  \n",
            "1           14.383         8.0  \n",
            "2           20.087         8.2  \n",
            "3           12.911         7.7  \n",
            "4           12.788         7.8  \n"
          ]
        }
      ]
    },
    {
      "cell_type": "code",
      "source": [
        "# Ordenar os títulos pela pontuação no IMDB em ordem decrescente\n",
        "top_imdb_scores = df.sort_values(by='imdb_score', ascending=False)\n",
        "\n",
        "# Ordenar os títulos pela popularidade no TMDB em ordem decrescente\n",
        "top_tmdb_popularity = df.sort_values(by='tmdb_popularity', ascending=False)\n",
        "\n",
        "# Ordenar os títulos pelo número de votos no IMDB em ordem decrescente\n",
        "top_imdb_votes = df.sort_values(by='imdb_votes', ascending=False)\n",
        "\n",
        "# Visualizar os títulos mais populares\n",
        "print(\"Top 10 títulos com maior pontuação no IMDB:\")\n",
        "print(top_imdb_scores[['title', 'imdb_score']].head(10))\n",
        "\n",
        "print(\"\\nTop 10 títulos com maior popularidade no TMDB:\")\n",
        "print(top_tmdb_popularity[['title', 'tmdb_popularity']].head(10))\n",
        "\n",
        "print(\"\\nTop 10 títulos com mais votos no IMDB:\")\n",
        "print(top_imdb_votes[['title', 'imdb_votes']].head(10))"
      ],
      "metadata": {
        "colab": {
          "base_uri": "https://localhost:8080/"
        },
        "id": "DjjiQ8e_yk23",
        "outputId": "ba8b2184-6fe5-4483-d7bb-d3157f031046"
      },
      "execution_count": 5,
      "outputs": [
        {
          "output_type": "stream",
          "name": "stdout",
          "text": [
            "Top 10 títulos com maior pontuação no IMDB:\n",
            "                         title  imdb_score\n",
            "1038          Band of Brothers         9.4\n",
            "2531                 Chernobyl         9.4\n",
            "1030                  The Wire         9.3\n",
            "2330                    Lamput         9.3\n",
            "725   The Shawshank Redemption         9.3\n",
            "712               The Sopranos         9.2\n",
            "2275         Emergency Contact         9.2\n",
            "1878            Rick and Morty         9.2\n",
            "669          Eyes on the Prize         9.2\n",
            "1706           Game of Thrones         9.2\n",
            "\n",
            "Top 10 títulos com maior popularidade no TMDB:\n",
            "                         title  tmdb_popularity\n",
            "2974                The Batman         4447.894\n",
            "2987                  The Baby          757.816\n",
            "2991  The Matrix Resurrections          641.541\n",
            "3016                      Kimi          565.886\n",
            "2997            The King's Man          559.090\n",
            "3005           Superman & Lois          527.634\n",
            "1706           Game of Thrones          492.101\n",
            "2529                  Euphoria          445.399\n",
            "2990                  Free Guy          398.516\n",
            "2978         Death on the Nile          386.008\n",
            "\n",
            "Top 10 títulos com mais votos no IMDB:\n",
            "                                                  title  imdb_votes\n",
            "1035                                    The Dark Knight   2555504.0\n",
            "725                            The Shawshank Redemption   2548100.0\n",
            "1051                                          Inception   2268288.0\n",
            "1706                                    Game of Thrones   1983794.0\n",
            "732                                          The Matrix   1857949.0\n",
            "1033  The Lord of the Rings: The Fellowship of the Ring   1798012.0\n",
            "1209      The Lord of the Rings: The Return of the King   1776725.0\n",
            "1151              The Lord of the Rings: The Two Towers   1604677.0\n",
            "716                                               Se7en   1586065.0\n",
            "1045                                      Batman Begins   1426616.0\n"
          ]
        }
      ]
    }
  ]
}